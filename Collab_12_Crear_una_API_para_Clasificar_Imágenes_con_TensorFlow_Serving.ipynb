{
  "nbformat": 4,
  "nbformat_minor": 0,
  "metadata": {
    "colab": {
      "name": "Collab 12 - Crear una API para Clasificar Imágenes con TensorFlow Serving.ipynb",
      "provenance": [],
      "collapsed_sections": []
    },
    "kernelspec": {
      "name": "python3",
      "display_name": "Python 3"
    },
    "accelerator": "GPU"
  },
  "cells": [
    {
      "cell_type": "markdown",
      "metadata": {
        "id": "yCrzPgLp7W1h",
        "colab_type": "text"
      },
      "source": [
        "## Paso 1: Instalar las dependencias y configurar el proyecto en GPU\n"
      ]
    },
    {
      "cell_type": "code",
      "metadata": {
        "id": "w0KGbZuk7T7F",
        "colab_type": "code",
        "outputId": "772e62ed-8c13-4061-de62-b9e6f4299d04",
        "colab": {
          "base_uri": "https://localhost:8080/",
          "height": 102
        }
      },
      "source": [
        "!echo \"deb [arch=amd64] http://storage.googleapis.com/tensorflow-serving-apt stable tensorflow-model-server tensorflow-model-server-universal\" | sudo tee /etc/apt/sources.list.d/tensorflow-serving.list && curl https://storage.googleapis.com/tensorflow-serving-apt/tensorflow-serving.release.pub.gpg | sudo apt-key add -"
      ],
      "execution_count": 0,
      "outputs": [
        {
          "output_type": "stream",
          "text": [
            "deb [arch=amd64] http://storage.googleapis.com/tensorflow-serving-apt stable tensorflow-model-server tensorflow-model-server-universal\n",
            "  % Total    % Received % Xferd  Average Speed   Time    Time     Time  Current\n",
            "                                 Dload  Upload   Total   Spent    Left  Speed\n",
            "\r  0     0    0     0    0     0      0      0 --:--:-- --:--:-- --:--:--     0\r100  2943  100  2943    0     0  14426      0 --:--:-- --:--:-- --:--:-- 14426\n",
            "OK\n"
          ],
          "name": "stdout"
        }
      ]
    },
    {
      "cell_type": "code",
      "metadata": {
        "id": "-AoEpKnD94Lj",
        "colab_type": "code",
        "outputId": "b123fee7-f5d7-43fc-9fb9-9358f6e1c31d",
        "colab": {
          "base_uri": "https://localhost:8080/",
          "height": 561
        }
      },
      "source": [
        "!apt-get update & apt-get install tensorflow-model-server"
      ],
      "execution_count": 0,
      "outputs": [
        {
          "output_type": "stream",
          "text": [
            "\rReading package lists... 0%\r\r0% [Working]\rReading package lists... 0%\r\rReading package lists... 0%\r\r            \rHit:1 http://storage.googleapis.com/tensorflow-serving-apt stable InRelease\n",
            "\r0% [Connecting to archive.ubuntu.com] [Connecting to security.ubuntu.com] [Conn\r0% [1 InRelease gpgv 3,012 B] [Connecting to archive.ubuntu.com] [Connecting to\rReading package lists... 7%\r\rReading package lists... 7%\r\rReading package lists... 7%\r\rReading package lists... 7%\r\r                                                                               \rHit:2 https://cloud.r-project.org/bin/linux/ubuntu bionic-cran35/ InRelease\n",
            "\r0% [1 InRelease gpgv 3,012 B] [Connecting to archive.ubuntu.com] [Connecting to\r0% [Connecting to archive.ubuntu.com (91.189.88.149)] [Connecting to security.u\r0% [2 InRelease gpgv 3,626 B] [Connecting to archive.ubuntu.com (91.189.88.149)\r                                                                               \rIgn:3 https://developer.download.nvidia.com/compute/cuda/repos/ubuntu1804/x86_64  InRelease\n",
            "\r0% [2 InRelease gpgv 3,626 B] [Connecting to archive.ubuntu.com (91.189.88.149)\r0% [Connecting to archive.ubuntu.com (91.189.88.149)] [Connecting to security.u\r                                                                               \rIgn:4 https://developer.download.nvidia.com/compute/machine-learning/repos/ubuntu1804/x86_64  InRelease\n",
            "\r0% [Connecting to archive.ubuntu.com (91.189.88.149)] [Connecting to security.u\r                                                                               \rHit:5 https://developer.download.nvidia.com/compute/cuda/repos/ubuntu1804/x86_64  Release\n",
            "\r0% [Connecting to archive.ubuntu.com (91.189.88.149)] [Connecting to security.u\r0% [Release.gpg gpgv 564 B] [Connecting to archive.ubuntu.com (91.189.88.149)] \r                                                                               \rHit:6 https://developer.download.nvidia.com/compute/machine-learning/repos/ubuntu1804/x86_64  Release\n",
            "Hit:7 http://ppa.launchpad.net/graphics-drivers/ppa/ubuntu bionic InRelease\n",
            "Get:8 http://security.ubuntu.com/ubuntu bionic-security InRelease [88.7 kB]\n",
            "Hit:9 http://archive.ubuntu.com/ubuntu bionic InRelease\n",
            "Hit:11 http://ppa.launchpad.net/marutter/c2d4u3.5/ubuntu bionic InRelease\n",
            "Get:12 http://archive.ubuntu.com/ubuntu bionic-updates InRelease [88.7 kB]\n",
            "Reading package lists... Done\n",
            "Building dependency tree       \n",
            "Reading state information... Done\n",
            "0% [11 InRelease gpgv 15.4 kB] [12 InRelease 47.5 kB/88.7 kB 54%]The following package was automatically installed and is no longer required:\n",
            "  libnvidia-common-410\n",
            "Use 'apt autoremove' to remove it.\n",
            "The following NEW packages will be installed:\n",
            "  tensorflow-model-server\n",
            "0 upgraded, 1 newly installed, 0 to remove and 35 not upgraded.\n",
            "Need to get 151 MB of archives.\n",
            "After this operation, 0 B of additional disk space will be used.\n",
            "Get:14 http://archive.ubuntu.com/ubuntu bionic-backports InRelease [74.6 kB]\n",
            "Fetched 252 kB in 2s (111 kB/s)\n",
            "Get:1 http://storage.googleapis.com/tensorflow-serving-apt stable/tensorflow-model-server amd64 tensorflow-model-server all 1.14.0 [151 MB]\n",
            "Reading package lists... Done\n",
            "Fetched 151 MB in 4s (40.2 MB/s)\n",
            "Selecting previously unselected package tensorflow-model-server.\n",
            "(Reading database ... 131289 files and directories currently installed.)\n",
            "Preparing to unpack .../tensorflow-model-server_1.14.0_all.deb ...\n",
            "Unpacking tensorflow-model-server (1.14.0) ...\n",
            "Setting up tensorflow-model-server (1.14.0) ...\n"
          ],
          "name": "stdout"
        }
      ]
    },
    {
      "cell_type": "code",
      "metadata": {
        "id": "a1cAehxr-M9p",
        "colab_type": "code",
        "outputId": "8cbf656b-8db6-4ed3-a856-0d1eb84e38b8",
        "colab": {
          "base_uri": "https://localhost:8080/",
          "height": 649
        }
      },
      "source": [
        "!pip install tensorflow-gpu==1.13.1"
      ],
      "execution_count": 0,
      "outputs": [
        {
          "output_type": "stream",
          "text": [
            "Collecting tensorflow-gpu==1.13.1\n",
            "\u001b[?25l  Downloading https://files.pythonhosted.org/packages/7b/b1/0ad4ae02e17ddd62109cd54c291e311c4b5fd09b4d0678d3d6ce4159b0f0/tensorflow_gpu-1.13.1-cp36-cp36m-manylinux1_x86_64.whl (345.2MB)\n",
            "\u001b[K     |████████████████████████████████| 345.2MB 50kB/s \n",
            "\u001b[?25hRequirement already satisfied: absl-py>=0.1.6 in /usr/local/lib/python3.6/dist-packages (from tensorflow-gpu==1.13.1) (0.7.1)\n",
            "Requirement already satisfied: numpy>=1.13.3 in /usr/local/lib/python3.6/dist-packages (from tensorflow-gpu==1.13.1) (1.16.4)\n",
            "Requirement already satisfied: keras-applications>=1.0.6 in /usr/local/lib/python3.6/dist-packages (from tensorflow-gpu==1.13.1) (1.0.8)\n",
            "Requirement already satisfied: astor>=0.6.0 in /usr/local/lib/python3.6/dist-packages (from tensorflow-gpu==1.13.1) (0.8.0)\n",
            "Requirement already satisfied: keras-preprocessing>=1.0.5 in /usr/local/lib/python3.6/dist-packages (from tensorflow-gpu==1.13.1) (1.1.0)\n",
            "Collecting tensorboard<1.14.0,>=1.13.0 (from tensorflow-gpu==1.13.1)\n",
            "\u001b[?25l  Downloading https://files.pythonhosted.org/packages/0f/39/bdd75b08a6fba41f098b6cb091b9e8c7a80e1b4d679a581a0ccd17b10373/tensorboard-1.13.1-py3-none-any.whl (3.2MB)\n",
            "\u001b[K     |████████████████████████████████| 3.2MB 29.8MB/s \n",
            "\u001b[?25hCollecting tensorflow-estimator<1.14.0rc0,>=1.13.0 (from tensorflow-gpu==1.13.1)\n",
            "\u001b[?25l  Downloading https://files.pythonhosted.org/packages/bb/48/13f49fc3fa0fdf916aa1419013bb8f2ad09674c275b4046d5ee669a46873/tensorflow_estimator-1.13.0-py2.py3-none-any.whl (367kB)\n",
            "\u001b[K     |████████████████████████████████| 368kB 41.8MB/s \n",
            "\u001b[?25hRequirement already satisfied: wheel>=0.26 in /usr/local/lib/python3.6/dist-packages (from tensorflow-gpu==1.13.1) (0.33.4)\n",
            "Requirement already satisfied: six>=1.10.0 in /usr/local/lib/python3.6/dist-packages (from tensorflow-gpu==1.13.1) (1.12.0)\n",
            "Requirement already satisfied: gast>=0.2.0 in /usr/local/lib/python3.6/dist-packages (from tensorflow-gpu==1.13.1) (0.2.2)\n",
            "Requirement already satisfied: grpcio>=1.8.6 in /usr/local/lib/python3.6/dist-packages (from tensorflow-gpu==1.13.1) (1.15.0)\n",
            "Requirement already satisfied: protobuf>=3.6.1 in /usr/local/lib/python3.6/dist-packages (from tensorflow-gpu==1.13.1) (3.7.1)\n",
            "Requirement already satisfied: termcolor>=1.1.0 in /usr/local/lib/python3.6/dist-packages (from tensorflow-gpu==1.13.1) (1.1.0)\n",
            "Requirement already satisfied: h5py in /usr/local/lib/python3.6/dist-packages (from keras-applications>=1.0.6->tensorflow-gpu==1.13.1) (2.8.0)\n",
            "Requirement already satisfied: werkzeug>=0.11.15 in /usr/local/lib/python3.6/dist-packages (from tensorboard<1.14.0,>=1.13.0->tensorflow-gpu==1.13.1) (0.15.5)\n",
            "Requirement already satisfied: markdown>=2.6.8 in /usr/local/lib/python3.6/dist-packages (from tensorboard<1.14.0,>=1.13.0->tensorflow-gpu==1.13.1) (3.1.1)\n",
            "Collecting mock>=2.0.0 (from tensorflow-estimator<1.14.0rc0,>=1.13.0->tensorflow-gpu==1.13.1)\n",
            "  Downloading https://files.pythonhosted.org/packages/05/d2/f94e68be6b17f46d2c353564da56e6fb89ef09faeeff3313a046cb810ca9/mock-3.0.5-py2.py3-none-any.whl\n",
            "Requirement already satisfied: setuptools in /usr/local/lib/python3.6/dist-packages (from protobuf>=3.6.1->tensorflow-gpu==1.13.1) (41.0.1)\n",
            "\u001b[31mERROR: tensorflow 1.14.0 has requirement tensorboard<1.15.0,>=1.14.0, but you'll have tensorboard 1.13.1 which is incompatible.\u001b[0m\n",
            "\u001b[31mERROR: tensorflow 1.14.0 has requirement tensorflow-estimator<1.15.0rc0,>=1.14.0rc0, but you'll have tensorflow-estimator 1.13.0 which is incompatible.\u001b[0m\n",
            "Installing collected packages: tensorboard, mock, tensorflow-estimator, tensorflow-gpu\n",
            "  Found existing installation: tensorboard 1.14.0\n",
            "    Uninstalling tensorboard-1.14.0:\n",
            "      Successfully uninstalled tensorboard-1.14.0\n",
            "  Found existing installation: tensorflow-estimator 1.14.0\n",
            "    Uninstalling tensorflow-estimator-1.14.0:\n",
            "      Successfully uninstalled tensorflow-estimator-1.14.0\n",
            "Successfully installed mock-3.0.5 tensorboard-1.13.1 tensorflow-estimator-1.13.0 tensorflow-gpu-1.13.1\n"
          ],
          "name": "stdout"
        }
      ]
    },
    {
      "cell_type": "code",
      "metadata": {
        "id": "zfxOPCl7-Wp7",
        "colab_type": "code",
        "outputId": "951ff7f2-ff84-4b1c-8c45-eed067ea5812",
        "colab": {
          "base_uri": "https://localhost:8080/",
          "height": 102
        }
      },
      "source": [
        "!pip install requests"
      ],
      "execution_count": 0,
      "outputs": [
        {
          "output_type": "stream",
          "text": [
            "Requirement already satisfied: requests in /usr/local/lib/python3.6/dist-packages (2.21.0)\n",
            "Requirement already satisfied: certifi>=2017.4.17 in /usr/local/lib/python3.6/dist-packages (from requests) (2019.6.16)\n",
            "Requirement already satisfied: idna<2.9,>=2.5 in /usr/local/lib/python3.6/dist-packages (from requests) (2.8)\n",
            "Requirement already satisfied: chardet<3.1.0,>=3.0.2 in /usr/local/lib/python3.6/dist-packages (from requests) (3.0.4)\n",
            "Requirement already satisfied: urllib3<1.25,>=1.21.1 in /usr/local/lib/python3.6/dist-packages (from requests) (1.24.3)\n"
          ],
          "name": "stdout"
        }
      ]
    },
    {
      "cell_type": "markdown",
      "metadata": {
        "id": "qsgbM_R2-ud_",
        "colab_type": "text"
      },
      "source": [
        "## Paso 2: Importar las dependencias del proyecto"
      ]
    },
    {
      "cell_type": "code",
      "metadata": {
        "id": "Y3taHerg-nkS",
        "colab_type": "code",
        "outputId": "443dd87d-992b-4254-f106-a58c08b28310",
        "colab": {
          "base_uri": "https://localhost:8080/",
          "height": 34
        }
      },
      "source": [
        "import os\n",
        "import json\n",
        "import random\n",
        "import requests\n",
        "import subprocess\n",
        "import numpy as np\n",
        "import tensorflow as tf\n",
        "import matplotlib.pyplot as plt\n",
        "\n",
        "from tensorflow.keras.datasets import cifar10\n",
        "\n",
        "%matplotlib inline\n",
        "tf.__version__"
      ],
      "execution_count": 0,
      "outputs": [
        {
          "output_type": "execute_result",
          "data": {
            "text/plain": [
              "'1.13.1'"
            ]
          },
          "metadata": {
            "tags": []
          },
          "execution_count": 1
        }
      ]
    },
    {
      "cell_type": "markdown",
      "metadata": {
        "id": "90mWV1g6_TSt",
        "colab_type": "text"
      },
      "source": [
        "## Paso 3: Pre procesado de los datos"
      ]
    },
    {
      "cell_type": "markdown",
      "metadata": {
        "id": "dJsURBeA_XEe",
        "colab_type": "text"
      },
      "source": [
        "### Cargar el dataset"
      ]
    },
    {
      "cell_type": "code",
      "metadata": {
        "id": "FVgkziGT_RQZ",
        "colab_type": "code",
        "colab": {}
      },
      "source": [
        "(X_train, y_train), (X_test, y_test) = cifar10.load_data()"
      ],
      "execution_count": 0,
      "outputs": []
    },
    {
      "cell_type": "code",
      "metadata": {
        "id": "hqOyARxY_kC2",
        "colab_type": "code",
        "colab": {}
      },
      "source": [
        "class_names = ['avión', 'coche', 'pájaro', 'gato', 'ciervo', 'perro', 'rana', 'caballo', 'barco', 'camión']"
      ],
      "execution_count": 0,
      "outputs": []
    },
    {
      "cell_type": "markdown",
      "metadata": {
        "id": "B_adA5GI_ZGK",
        "colab_type": "text"
      },
      "source": [
        "### Normalización de imágenes"
      ]
    },
    {
      "cell_type": "code",
      "metadata": {
        "id": "VK4HUwLC_akD",
        "colab_type": "code",
        "colab": {}
      },
      "source": [
        "X_train = X_train / 255.0\n",
        "X_test = X_test / 255.0"
      ],
      "execution_count": 0,
      "outputs": []
    },
    {
      "cell_type": "code",
      "metadata": {
        "id": "Q2A1OrRg_bD8",
        "colab_type": "code",
        "outputId": "a1fadb3b-810a-4f84-faa1-6cf25abb8fdd",
        "colab": {
          "base_uri": "https://localhost:8080/",
          "height": 34
        }
      },
      "source": [
        "X_train.shape"
      ],
      "execution_count": 0,
      "outputs": [
        {
          "output_type": "execute_result",
          "data": {
            "text/plain": [
              "(50000, 32, 32, 3)"
            ]
          },
          "metadata": {
            "tags": []
          },
          "execution_count": 18
        }
      ]
    },
    {
      "cell_type": "markdown",
      "metadata": {
        "id": "HO6nL_9sBLPo",
        "colab_type": "text"
      },
      "source": [
        "## Paso 4: Definir el modelo\n",
        "\n",
        "NOTA: Vamos a usar el mismo modelo que creamos en la Sección de Redes Neuronales Convolucionales"
      ]
    },
    {
      "cell_type": "code",
      "metadata": {
        "id": "FHyAvU8OA_aq",
        "colab_type": "code",
        "colab": {}
      },
      "source": [
        "model = tf.keras.models.Sequential()\n",
        "model.add(tf.keras.layers.Conv2D(filters=32, kernel_size=3, padding=\"same\", activation=\"relu\", input_shape=[32, 32, 3]))\n",
        "model.add(tf.keras.layers.Conv2D(filters=32, kernel_size=3, padding=\"same\", activation=\"relu\"))\n",
        "model.add(tf.keras.layers.MaxPool2D(pool_size=2, strides=2, padding='valid'))\n",
        "model.add(tf.keras.layers.Conv2D(filters=64, kernel_size=3, padding=\"same\", activation=\"relu\"))\n",
        "model.add(tf.keras.layers.Conv2D(filters=64, kernel_size=3, padding=\"same\", activation=\"relu\"))\n",
        "model.add(tf.keras.layers.MaxPool2D(pool_size=2, strides=2, padding='valid'))\n",
        "model.add(tf.keras.layers.Flatten())\n",
        "model.add(tf.keras.layers.Dense(units=128, activation='relu'))\n",
        "model.add(tf.keras.layers.Dense(units=10, activation='softmax'))"
      ],
      "execution_count": 0,
      "outputs": []
    },
    {
      "cell_type": "markdown",
      "metadata": {
        "id": "J-7vFhykBgMj",
        "colab_type": "text"
      },
      "source": [
        "### Compilar el modelo"
      ]
    },
    {
      "cell_type": "code",
      "metadata": {
        "id": "5nqrVFn3BkeS",
        "colab_type": "code",
        "colab": {}
      },
      "source": [
        "model.compile(optimizer='Adam', \n",
        "              loss='sparse_categorical_crossentropy', \n",
        "              metrics=['sparse_categorical_accuracy'])"
      ],
      "execution_count": 0,
      "outputs": []
    },
    {
      "cell_type": "markdown",
      "metadata": {
        "id": "JJ1X_hgBBmx9",
        "colab_type": "text"
      },
      "source": [
        "###  Entrenar el modelo"
      ]
    },
    {
      "cell_type": "code",
      "metadata": {
        "id": "I7FSeHUkBpUq",
        "colab_type": "code",
        "outputId": "a23be6e0-5de5-4384-ba29-6684986acc64",
        "colab": {
          "base_uri": "https://localhost:8080/",
          "height": 374
        }
      },
      "source": [
        "model.fit(X_train, \n",
        "          y_train, \n",
        "          batch_size=128, \n",
        "          epochs=10)"
      ],
      "execution_count": 0,
      "outputs": [
        {
          "output_type": "stream",
          "text": [
            "Epoch 1/10\n",
            "50000/50000 [==============================] - 12s 234us/sample - loss: 1.4912 - sparse_categorical_accuracy: 0.4612\n",
            "Epoch 2/10\n",
            "50000/50000 [==============================] - 11s 223us/sample - loss: 1.0638 - sparse_categorical_accuracy: 0.6223\n",
            "Epoch 3/10\n",
            "50000/50000 [==============================] - 11s 225us/sample - loss: 0.8560 - sparse_categorical_accuracy: 0.7009\n",
            "Epoch 4/10\n",
            "50000/50000 [==============================] - 11s 223us/sample - loss: 0.7215 - sparse_categorical_accuracy: 0.7493\n",
            "Epoch 5/10\n",
            "50000/50000 [==============================] - 11s 224us/sample - loss: 0.6046 - sparse_categorical_accuracy: 0.7885\n",
            "Epoch 6/10\n",
            "50000/50000 [==============================] - 11s 222us/sample - loss: 0.5052 - sparse_categorical_accuracy: 0.8221\n",
            "Epoch 7/10\n",
            "50000/50000 [==============================] - 11s 225us/sample - loss: 0.4166 - sparse_categorical_accuracy: 0.8538\n",
            "Epoch 8/10\n",
            "50000/50000 [==============================] - 11s 224us/sample - loss: 0.3382 - sparse_categorical_accuracy: 0.8813\n",
            "Epoch 9/10\n",
            "50000/50000 [==============================] - 11s 224us/sample - loss: 0.2658 - sparse_categorical_accuracy: 0.9073\n",
            "Epoch 10/10\n",
            "50000/50000 [==============================] - 11s 224us/sample - loss: 0.2110 - sparse_categorical_accuracy: 0.9258\n"
          ],
          "name": "stdout"
        },
        {
          "output_type": "execute_result",
          "data": {
            "text/plain": [
              "<tensorflow.python.keras.callbacks.History at 0x7ff2e0fa0c50>"
            ]
          },
          "metadata": {
            "tags": []
          },
          "execution_count": 21
        }
      ]
    },
    {
      "cell_type": "markdown",
      "metadata": {
        "id": "g6k_gnv5BqdT",
        "colab_type": "text"
      },
      "source": [
        "### Evaluar el modelo"
      ]
    },
    {
      "cell_type": "code",
      "metadata": {
        "id": "l0nHalVeBtAy",
        "colab_type": "code",
        "outputId": "9c6c5415-d1fb-4d80-cf27-267a627b4b78",
        "colab": {
          "base_uri": "https://localhost:8080/",
          "height": 34
        }
      },
      "source": [
        "test_loss, test_accuracy = model.evaluate(X_test, y_test)"
      ],
      "execution_count": 0,
      "outputs": [
        {
          "output_type": "stream",
          "text": [
            "10000/10000 [==============================] - 2s 168us/sample - loss: 1.0588 - sparse_categorical_accuracy: 0.7350\n"
          ],
          "name": "stdout"
        }
      ]
    },
    {
      "cell_type": "code",
      "metadata": {
        "id": "u9q7jsTuBuxT",
        "colab_type": "code",
        "outputId": "bf447de6-70db-4148-866e-dd6201d35fb5",
        "colab": {
          "base_uri": "https://localhost:8080/",
          "height": 34
        }
      },
      "source": [
        "print(\"La precisión del modelo es de {} %\".format(test_accuracy*100.0))"
      ],
      "execution_count": 0,
      "outputs": [
        {
          "output_type": "stream",
          "text": [
            "La precisión del modelo es de 73.50000143051147 %\n"
          ],
          "name": "stdout"
        }
      ]
    },
    {
      "cell_type": "markdown",
      "metadata": {
        "id": "945L3-2rDjFe",
        "colab_type": "text"
      },
      "source": [
        "## Paso 5: Guardar el modelo para subir a producción"
      ]
    },
    {
      "cell_type": "markdown",
      "metadata": {
        "id": "5a5uCiniDmgY",
        "colab_type": "text"
      },
      "source": [
        "### Crear un directorio para el modelo"
      ]
    },
    {
      "cell_type": "code",
      "metadata": {
        "id": "YonroqRrC3sM",
        "colab_type": "code",
        "colab": {}
      },
      "source": [
        "MODEL_DIR = \"model/\"\n",
        "version = 1"
      ],
      "execution_count": 0,
      "outputs": []
    },
    {
      "cell_type": "code",
      "metadata": {
        "id": "07NyMUGYEMNF",
        "colab_type": "code",
        "outputId": "7e536678-a5c7-4466-9b06-4cdf64ff2d21",
        "colab": {
          "base_uri": "https://localhost:8080/",
          "height": 34
        }
      },
      "source": [
        "export_path = os.path.join(MODEL_DIR, str(version))\n",
        "export_path"
      ],
      "execution_count": 0,
      "outputs": [
        {
          "output_type": "execute_result",
          "data": {
            "text/plain": [
              "'model/1'"
            ]
          },
          "metadata": {
            "tags": []
          },
          "execution_count": 26
        }
      ]
    },
    {
      "cell_type": "code",
      "metadata": {
        "id": "jln7YavbEczA",
        "colab_type": "code",
        "colab": {}
      },
      "source": [
        "if os.path.isdir(export_path):\n",
        "    !rm -r {export_path}"
      ],
      "execution_count": 0,
      "outputs": []
    },
    {
      "cell_type": "markdown",
      "metadata": {
        "id": "0RA2HuIUDrDQ",
        "colab_type": "text"
      },
      "source": [
        "### Guardar el modelo para TensorFlow Serving"
      ]
    },
    {
      "cell_type": "code",
      "metadata": {
        "id": "19DG8IkIDv4S",
        "colab_type": "code",
        "outputId": "e4e13bac-04d8-435f-bf39-cdbea7b3602e",
        "colab": {
          "base_uri": "https://localhost:8080/",
          "height": 68
        }
      },
      "source": [
        "tf.saved_model.simple_save(tf.keras.backend.get_session(), export_dir=export_path, inputs={\"input_image\":model.input}, outputs={t.name:t for t in model.outputs})"
      ],
      "execution_count": 0,
      "outputs": [
        {
          "output_type": "stream",
          "text": [
            "INFO:tensorflow:Assets added to graph.\n",
            "INFO:tensorflow:No assets to write.\n",
            "INFO:tensorflow:SavedModel written to: model/1/saved_model.pb\n"
          ],
          "name": "stdout"
        }
      ]
    },
    {
      "cell_type": "markdown",
      "metadata": {
        "id": "1o8BlXcBFvIm",
        "colab_type": "text"
      },
      "source": [
        "## Paso 6: Configurar el entorno de producción"
      ]
    },
    {
      "cell_type": "markdown",
      "metadata": {
        "id": "rSFWzxOrF0ft",
        "colab_type": "text"
      },
      "source": [
        "### Exportar el MODEL_DIR a las variables de entorno"
      ]
    },
    {
      "cell_type": "code",
      "metadata": {
        "id": "BS6wsQthLX_i",
        "colab_type": "code",
        "colab": {}
      },
      "source": [
        "os.environ['MODEL_DIR'] = os.path.abspath(MODEL_DIR)"
      ],
      "execution_count": 0,
      "outputs": []
    },
    {
      "cell_type": "markdown",
      "metadata": {
        "id": "8TXejqj5F5oj",
        "colab_type": "text"
      },
      "source": [
        "### Ejecutar la API REST de TensorFlow Serving"
      ]
    },
    {
      "cell_type": "code",
      "metadata": {
        "id": "oWjUhJA4KGWy",
        "colab_type": "code",
        "outputId": "5f0cc786-51fe-4ffc-99f6-4052929ef50e",
        "colab": {
          "base_uri": "https://localhost:8080/",
          "height": 34
        }
      },
      "source": [
        "%%bash --bg\n",
        "nohup tensorflow_model_server --rest_api_port=8000 --model_name=cifar10 --model_base_path=\"${MODEL_DIR}\" >server.log 2>&1"
      ],
      "execution_count": 0,
      "outputs": [
        {
          "output_type": "stream",
          "text": [
            "Starting job # 3 in a separate thread.\n"
          ],
          "name": "stdout"
        }
      ]
    },
    {
      "cell_type": "code",
      "metadata": {
        "id": "iPa7fGZ5NHL5",
        "colab_type": "code",
        "outputId": "2b1f7acd-090f-45cd-d258-390af3816172",
        "colab": {
          "base_uri": "https://localhost:8080/",
          "height": 207
        }
      },
      "source": [
        "!tail server.log"
      ],
      "execution_count": 0,
      "outputs": [
        {
          "output_type": "stream",
          "text": [
            "2019-08-07 10:08:17.405940: I external/org_tensorflow/tensorflow/cc/saved_model/reader.cc:31] Reading SavedModel from: /content/model/1\n",
            "2019-08-07 10:08:17.416011: I external/org_tensorflow/tensorflow/cc/saved_model/reader.cc:54] Reading meta graph with tags { serve }\n",
            "2019-08-07 10:08:17.427341: I external/org_tensorflow/tensorflow/core/platform/cpu_feature_guard.cc:142] Your CPU supports instructions that this TensorFlow binary was not compiled to use: AVX2 FMA\n",
            "2019-08-07 10:08:17.471008: I external/org_tensorflow/tensorflow/cc/saved_model/loader.cc:202] Restoring SavedModel bundle.\n",
            "2019-08-07 10:08:17.580525: I external/org_tensorflow/tensorflow/cc/saved_model/loader.cc:311] SavedModel load for tags { serve }; Status: success. Took 174570 microseconds.\n",
            "2019-08-07 10:08:17.580607: I tensorflow_serving/servables/tensorflow/saved_model_warmup.cc:103] No warmup data file found at /content/model/1/assets.extra/tf_serving_warmup_requests\n",
            "2019-08-07 10:08:17.580706: I tensorflow_serving/core/loader_harness.cc:86] Successfully loaded servable version {name: cifar10 version: 1}\n",
            "2019-08-07 10:08:17.582935: I tensorflow_serving/model_servers/server.cc:324] Running gRPC ModelServer at 0.0.0.0:8500 ...\n",
            "2019-08-07 10:08:17.583703: I tensorflow_serving/model_servers/server.cc:344] Exporting HTTP/REST API at:localhost:8000 ...\n",
            "[evhttp_server.cc : 239] RAW: Entering the event loop ...\n"
          ],
          "name": "stdout"
        }
      ]
    },
    {
      "cell_type": "markdown",
      "metadata": {
        "id": "ICEqKpKUOC2F",
        "colab_type": "text"
      },
      "source": [
        "## Paso 7: Crear nuestra primera petición por POST"
      ]
    },
    {
      "cell_type": "code",
      "metadata": {
        "id": "AvjZyyPIN3Zq",
        "colab_type": "code",
        "outputId": "ee73d05c-db8c-43b3-a586-ff301d68b396",
        "colab": {
          "base_uri": "https://localhost:8080/",
          "height": 34
        }
      },
      "source": [
        "random_image = np.random.randint(0, len(X_test))\n",
        "random_image"
      ],
      "execution_count": 0,
      "outputs": [
        {
          "output_type": "execute_result",
          "data": {
            "text/plain": [
              "2656"
            ]
          },
          "metadata": {
            "tags": []
          },
          "execution_count": 23
        }
      ]
    },
    {
      "cell_type": "markdown",
      "metadata": {
        "id": "tqOfIBMNOK8p",
        "colab_type": "text"
      },
      "source": [
        "### Crear el objeto de datos en JSON"
      ]
    },
    {
      "cell_type": "code",
      "metadata": {
        "id": "nB57JR6wONOI",
        "colab_type": "code",
        "colab": {}
      },
      "source": [
        "data = json.dumps({\"signature_name\":\"serving_default\", \"instances\":[X_test[random_image].tolist()]})"
      ],
      "execution_count": 0,
      "outputs": []
    },
    {
      "cell_type": "code",
      "metadata": {
        "id": "ez6JF3yIPdYZ",
        "colab_type": "code",
        "outputId": "c8d200a0-96bc-4dae-ed03-ddc5eeecad2d",
        "colab": {
          "base_uri": "https://localhost:8080/",
          "height": 54
        }
      },
      "source": [
        "data"
      ],
      "execution_count": 0,
      "outputs": [
        {
          "output_type": "execute_result",
          "data": {
            "text/plain": [
              "'{\"signature_name\": \"serving_default\", \"instances\": [[[[0.10980392156862745, 0.16862745098039217, 0.20784313725490197], [0.12156862745098039, 0.17254901960784313, 0.20392156862745098], [0.12549019607843137, 0.19215686274509805, 0.23529411764705882], [0.12941176470588237, 0.20784313725490197, 0.2627450980392157], [0.09411764705882353, 0.1450980392156863, 0.17254901960784313], [0.058823529411764705, 0.06274509803921569, 0.058823529411764705], [0.0784313725490196, 0.10588235294117647, 0.10196078431372549], [0.10588235294117647, 0.1450980392156863, 0.14901960784313725], [0.10588235294117647, 0.13725490196078433, 0.1411764705882353], [0.09019607843137255, 0.10980392156862745, 0.11372549019607843], [0.11372549019607843, 0.12156862745098039, 0.11372549019607843], [0.07450980392156863, 0.08627450980392157, 0.09019607843137255], [0.12549019607843137, 0.1450980392156863, 0.1411764705882353], [0.1607843137254902, 0.1843137254901961, 0.16470588235294117], [0.1450980392156863, 0.17254901960784313, 0.1568627450980392], [0.15294117647058825, 0.1803921568627451, 0.1607843137254902], [0.1568627450980392, 0.18823529411764706, 0.14901960784313725], [0.19607843137254902, 0.2235294117647059, 0.11764705882352941], [0.22745098039215686, 0.23137254901960785, 0.10980392156862745], [0.13725490196078433, 0.19607843137254902, 0.1607843137254902], [0.11764705882352941, 0.22745098039215686, 0.2901960784313726], [0.09803921568627451, 0.17254901960784313, 0.2196078431372549], [0.1803921568627451, 0.20392156862745098, 0.19607843137254902], [0.1607843137254902, 0.17254901960784313, 0.16470588235294117], [0.09019607843137255, 0.12156862745098039, 0.13725490196078433], [0.11372549019607843, 0.15294117647058825, 0.20784313725490197], [0.12549019607843137, 0.16862745098039217, 0.21176470588235294], [0.11372549019607843, 0.16862745098039217, 0.21176470588235294], [0.1411764705882353, 0.2, 0.24705882352941178], [0.08627450980392157, 0.11764705882352941, 0.10196078431372549], [0.050980392156862744, 0.06666666666666667, 0.058823529411764705], [0.03529411764705882, 0.047058823529411764, 0.0392156862745098]], [[0.22745098039215686, 0.2980392156862745, 0.34901960784313724], [0.1843137254901961, 0.25098039215686274, 0.29411764705882354], [0.1411764705882353, 0.20784313725490197, 0.2627450980392157], [0.16470588235294117, 0.24313725490196078, 0.2980392156862745], [0.18823529411764706, 0.23137254901960785, 0.25882352941176473], [0.15294117647058825, 0.14901960784313725, 0.13725490196078433], [0.1568627450980392, 0.1607843137254902, 0.14901960784313725], [0.1607843137254902, 0.17254901960784313, 0.1607843137254902], [0.1450980392156863, 0.15294117647058825, 0.13333333333333333], [0.13333333333333333, 0.13725490196078433, 0.10980392156862745], [0.12156862745098039, 0.12549019607843137, 0.10196078431372549], [0.0784313725490196, 0.08235294117647059, 0.0784313725490196], [0.11372549019607843, 0.12549019607843137, 0.11764705882352941], [0.14901960784313725, 0.1607843137254902, 0.13725490196078433], [0.13333333333333333, 0.15294117647058825, 0.12941176470588237], [0.12941176470588237, 0.15294117647058825, 0.12941176470588237], [0.1411764705882353, 0.16862745098039217, 0.1411764705882353], [0.1607843137254902, 0.18823529411764706, 0.10588235294117647], [0.21176470588235294, 0.22745098039215686, 0.10980392156862745], [0.16470588235294117, 0.20784313725490197, 0.19215686274509805], [0.17254901960784313, 0.24705882352941178, 0.3176470588235294], [0.13725490196078433, 0.21568627450980393, 0.27058823529411763], [0.19607843137254902, 0.24313725490196078, 0.2627450980392157], [0.1450980392156863, 0.16470588235294117, 0.1568627450980392], [0.10588235294117647, 0.12549019607843137, 0.12549019607843137], [0.1411764705882353, 0.16470588235294117, 0.1803921568627451], [0.12941176470588237, 0.16470588235294117, 0.19215686274509805], [0.13333333333333333, 0.17647058823529413, 0.22745098039215686], [0.1411764705882353, 0.1803921568627451, 0.21176470588235294], [0.08235294117647059, 0.09803921568627451, 0.08235294117647059], [0.058823529411764705, 0.07450980392156863, 0.058823529411764705], [0.047058823529411764, 0.054901960784313725, 0.047058823529411764]], [[0.23529411764705882, 0.30980392156862746, 0.35294117647058826], [0.16862745098039217, 0.23137254901960785, 0.26666666666666666], [0.16470588235294117, 0.2196078431372549, 0.26666666666666666], [0.1607843137254902, 0.21568627450980393, 0.25882352941176473], [0.22745098039215686, 0.25882352941176473, 0.27450980392156865], [0.26666666666666666, 0.25882352941176473, 0.24705882352941178], [0.17647058823529413, 0.1803921568627451, 0.1803921568627451], [0.24313725490196078, 0.2627450980392157, 0.2627450980392157], [0.30196078431372547, 0.3215686274509804, 0.2901960784313726], [0.3254901960784314, 0.34509803921568627, 0.2980392156862745], [0.3764705882352941, 0.3843137254901961, 0.34901960784313724], [0.3764705882352941, 0.3843137254901961, 0.35294117647058826], [0.2980392156862745, 0.30980392156862746, 0.2784313725490196], [0.23137254901960785, 0.23921568627450981, 0.20784313725490197], [0.19607843137254902, 0.20784313725490197, 0.1803921568627451], [0.1568627450980392, 0.16862745098039217, 0.13333333333333333], [0.1607843137254902, 0.16862745098039217, 0.1411764705882353], [0.15294117647058825, 0.19215686274509805, 0.10196078431372549], [0.21568627450980393, 0.24313725490196078, 0.08235294117647059], [0.17254901960784313, 0.2, 0.13333333333333333], [0.12156862745098039, 0.16470588235294117, 0.16862745098039217], [0.10196078431372549, 0.16470588235294117, 0.20784313725490197], [0.1843137254901961, 0.24313725490196078, 0.28627450980392155], [0.1411764705882353, 0.1607843137254902, 0.1411764705882353], [0.10196078431372549, 0.12156862745098039, 0.10196078431372549], [0.13333333333333333, 0.15294117647058825, 0.12549019607843137], [0.12941176470588237, 0.1607843137254902, 0.1607843137254902], [0.12549019607843137, 0.1607843137254902, 0.19607843137254902], [0.1411764705882353, 0.1568627450980392, 0.17254901960784313], [0.10196078431372549, 0.10980392156862745, 0.09803921568627451], [0.07058823529411765, 0.09019607843137255, 0.06666666666666667], [0.06666666666666667, 0.07058823529411765, 0.06274509803921569]], [[0.11372549019607843, 0.1843137254901961, 0.24705882352941178], [0.19215686274509805, 0.2196078431372549, 0.24313725490196078], [0.4, 0.403921568627451, 0.4117647058823529], [0.3058823529411765, 0.3215686274509804, 0.3333333333333333], [0.3215686274509804, 0.33725490196078434, 0.3411764705882353], [0.4196078431372549, 0.4196078431372549, 0.40784313725490196], [0.22745098039215686, 0.25882352941176473, 0.24313725490196078], [0.27058823529411763, 0.3215686274509804, 0.30196078431372547], [0.3411764705882353, 0.39215686274509803, 0.3607843137254902], [0.23921568627450981, 0.2784313725490196, 0.25098039215686274], [0.27450980392156865, 0.29411764705882354, 0.27058823529411763], [0.35294117647058826, 0.37254901960784315, 0.3254901960784314], [0.1803921568627451, 0.19607843137254902, 0.1568627450980392], [0.1607843137254902, 0.17254901960784313, 0.1450980392156863], [0.2235294117647059, 0.23529411764705882, 0.20392156862745098], [0.30980392156862746, 0.3058823529411765, 0.25882352941176473], [0.2627450980392157, 0.24705882352941178, 0.20392156862745098], [0.2235294117647059, 0.23137254901960785, 0.1568627450980392], [0.24705882352941178, 0.25882352941176473, 0.10588235294117647], [0.13333333333333333, 0.15294117647058825, 0.0784313725490196], [0.11372549019607843, 0.14901960784313725, 0.13333333333333333], [0.10588235294117647, 0.14901960784313725, 0.17647058823529413], [0.16470588235294117, 0.21176470588235294, 0.24313725490196078], [0.10980392156862745, 0.11764705882352941, 0.10980392156862745], [0.08235294117647059, 0.09019607843137255, 0.09019607843137255], [0.1607843137254902, 0.16470588235294117, 0.1568627450980392], [0.20392156862745098, 0.2196078431372549, 0.19607843137254902], [0.13333333333333333, 0.1450980392156863, 0.1450980392156863], [0.13333333333333333, 0.13333333333333333, 0.12941176470588237], [0.0784313725490196, 0.08627450980392157, 0.07450980392156863], [0.09411764705882353, 0.11372549019607843, 0.09019607843137255], [0.09803921568627451, 0.10196078431372549, 0.09019607843137255]], [[0.3215686274509804, 0.3568627450980392, 0.4], [0.5490196078431373, 0.5411764705882353, 0.5333333333333333], [0.5764705882352941, 0.5490196078431373, 0.4980392156862745], [0.49411764705882355, 0.47843137254901963, 0.43529411764705883], [0.49411764705882355, 0.49411764705882355, 0.47843137254901963], [0.4980392156862745, 0.5058823529411764, 0.5019607843137255], [0.33725490196078434, 0.38823529411764707, 0.3568627450980392], [0.34901960784313724, 0.42745098039215684, 0.3843137254901961], [0.37254901960784315, 0.44313725490196076, 0.4], [0.23529411764705882, 0.2784313725490196, 0.24313725490196078], [0.28627450980392155, 0.2980392156862745, 0.2627450980392157], [0.21176470588235294, 0.2196078431372549, 0.19215686274509805], [0.0392156862745098, 0.0392156862745098, 0.023529411764705882], [0.09803921568627451, 0.09803921568627451, 0.0784313725490196], [0.08235294117647059, 0.09411764705882353, 0.07058823529411765], [0.2549019607843137, 0.2549019607843137, 0.21568627450980393], [0.43137254901960786, 0.4117647058823529, 0.34901960784313724], [0.36470588235294116, 0.35294117647058826, 0.26666666666666666], [0.23137254901960785, 0.22745098039215686, 0.13333333333333333], [0.07058823529411765, 0.08235294117647059, 0.047058823529411764], [0.1450980392156863, 0.1803921568627451, 0.1843137254901961], [0.24705882352941178, 0.2823529411764706, 0.3137254901960784], [0.30980392156862746, 0.30980392156862746, 0.3215686274509804], [0.12156862745098039, 0.11764705882352941, 0.11764705882352941], [0.058823529411764705, 0.0784313725490196, 0.10980392156862745], [0.09803921568627451, 0.12549019607843137, 0.1843137254901961], [0.10196078431372549, 0.12156862745098039, 0.1607843137254902], [0.09803921568627451, 0.10588235294117647, 0.10196078431372549], [0.12549019607843137, 0.12549019607843137, 0.09803921568627451], [0.11764705882352941, 0.12156862745098039, 0.09803921568627451], [0.09803921568627451, 0.10588235294117647, 0.08627450980392157], [0.047058823529411764, 0.050980392156862744, 0.0392156862745098]], [[0.6078431372549019, 0.6196078431372549, 0.6235294117647059], [0.6980392156862745, 0.6784313725490196, 0.6431372549019608], [0.5254901960784314, 0.5058823529411764, 0.4588235294117647], [0.4980392156862745, 0.48627450980392156, 0.43529411764705883], [0.5411764705882353, 0.5294117647058824, 0.5019607843137255], [0.47058823529411764, 0.4549019607843137, 0.44313725490196076], [0.396078431372549, 0.39215686274509803, 0.3607843137254902], [0.34509803921568627, 0.3607843137254902, 0.3176470588235294], [0.2549019607843137, 0.2784313725490196, 0.23921568627450981], [0.25882352941176473, 0.27450980392156865, 0.23921568627450981], [0.38823529411764707, 0.3843137254901961, 0.35294117647058826], [0.5568627450980392, 0.5568627450980392, 0.5176470588235295], [0.36470588235294116, 0.3686274509803922, 0.32941176470588235], [0.49019607843137253, 0.49411764705882355, 0.4588235294117647], [0.3843137254901961, 0.4, 0.3686274509803922], [0.2901960784313726, 0.29411764705882354, 0.2549019607843137], [0.25098039215686274, 0.24313725490196078, 0.19215686274509805], [0.1607843137254902, 0.15294117647058825, 0.10196078431372549], [0.11372549019607843, 0.10588235294117647, 0.058823529411764705], [0.09411764705882353, 0.09411764705882353, 0.0784313725490196], [0.11372549019607843, 0.12549019607843137, 0.12549019607843137], [0.1843137254901961, 0.1843137254901961, 0.17647058823529413], [0.3254901960784314, 0.29411764705882354, 0.27450980392156865], [0.16470588235294117, 0.1450980392156863, 0.12941176470588237], [0.11764705882352941, 0.12941176470588237, 0.13725490196078433], [0.11372549019607843, 0.1411764705882353, 0.2235294117647059], [0.06274509803921569, 0.09803921568627451, 0.21176470588235294], [0.054901960784313725, 0.07058823529411765, 0.09411764705882353], [0.09019607843137255, 0.09411764705882353, 0.07058823529411765], [0.12549019607843137, 0.13333333333333333, 0.11372549019607843], [0.07058823529411765, 0.07450980392156863, 0.054901960784313725], [0.03137254901960784, 0.0392156862745098, 0.0196078431372549]], [[0.5882352941176471, 0.615686274509804, 0.6274509803921569], [0.5764705882352941, 0.5764705882352941, 0.5607843137254902], [0.6274509803921569, 0.6274509803921569, 0.6196078431372549], [0.6666666666666666, 0.6509803921568628, 0.6313725490196078], [0.6941176470588235, 0.6549019607843137, 0.611764705882353], [0.7333333333333333, 0.6784313725490196, 0.611764705882353], [0.7098039215686275, 0.6549019607843137, 0.5803921568627451], [0.6274509803921569, 0.5843137254901961, 0.5098039215686274], [0.5372549019607843, 0.5098039215686274, 0.4392156862745098], [0.5529411764705883, 0.5215686274509804, 0.4549019607843137], [0.5411764705882353, 0.48627450980392156, 0.43137254901960786], [0.6549019607843137, 0.611764705882353, 0.5254901960784314], [0.6784313725490196, 0.6509803921568628, 0.5490196078431373], [0.5529411764705883, 0.5411764705882353, 0.4549019607843137], [0.4117647058823529, 0.43529411764705883, 0.36470588235294116], [0.34509803921568627, 0.3686274509803922, 0.2980392156862745], [0.2627450980392157, 0.27450980392156865, 0.21568627450980393], [0.1843137254901961, 0.18823529411764706, 0.16862745098039217], [0.1568627450980392, 0.1568627450980392, 0.13333333333333333], [0.1568627450980392, 0.15294117647058825, 0.13333333333333333], [0.1450980392156863, 0.1411764705882353, 0.11372549019607843], [0.15294117647058825, 0.13333333333333333, 0.09019607843137255], [0.1803921568627451, 0.15294117647058825, 0.11764705882352941], [0.13333333333333333, 0.12156862745098039, 0.09803921568627451], [0.09803921568627451, 0.09411764705882353, 0.08235294117647059], [0.06274509803921569, 0.07058823529411765, 0.08235294117647059], [0.07058823529411765, 0.09803921568627451, 0.12156862745098039], [0.09803921568627451, 0.09803921568627451, 0.12549019607843137], [0.07058823529411765, 0.06666666666666667, 0.06666666666666667], [0.08235294117647059, 0.09019607843137255, 0.0784313725490196], [0.08627450980392157, 0.09411764705882353, 0.07058823529411765], [0.08235294117647059, 0.08627450980392157, 0.06666666666666667]], [[0.4470588235294118, 0.5058823529411764, 0.5647058823529412], [0.5725490196078431, 0.596078431372549, 0.6235294117647059], [0.6823529411764706, 0.6823529411764706, 0.6901960784313725], [0.7333333333333333, 0.7137254901960784, 0.7098039215686275], [0.796078431372549, 0.7450980392156863, 0.7019607843137254], [0.7764705882352941, 0.7215686274509804, 0.6313725490196078], [0.6392156862745098, 0.592156862745098, 0.5098039215686274], [0.5333333333333333, 0.49411764705882355, 0.41568627450980394], [0.5215686274509804, 0.47843137254901963, 0.39215686274509803], [0.5490196078431373, 0.5019607843137255, 0.39215686274509803], [0.5215686274509804, 0.4627450980392157, 0.3568627450980392], [0.4588235294117647, 0.4117647058823529, 0.32941176470588235], [0.4235294117647059, 0.4, 0.3254901960784314], [0.3843137254901961, 0.3843137254901961, 0.3058823529411765], [0.40784313725490196, 0.4470588235294118, 0.35294117647058826], [0.3843137254901961, 0.4196078431372549, 0.33725490196078434], [0.28627450980392155, 0.3058823529411765, 0.24705882352941178], [0.2235294117647059, 0.24313725490196078, 0.21176470588235294], [0.2235294117647059, 0.24705882352941178, 0.20392156862745098], [0.2, 0.21568627450980393, 0.1843137254901961], [0.16470588235294117, 0.16470588235294117, 0.13333333333333333], [0.15294117647058825, 0.15294117647058825, 0.11372549019607843], [0.11372549019607843, 0.11372549019607843, 0.09019607843137255], [0.09019607843137255, 0.09411764705882353, 0.07450980392156863], [0.07450980392156863, 0.07450980392156863, 0.050980392156862744], [0.050980392156862744, 0.043137254901960784, 0.023529411764705882], [0.07450980392156863, 0.06666666666666667, 0.047058823529411764], [0.10588235294117647, 0.09803921568627451, 0.08627450980392157], [0.06666666666666667, 0.06274509803921569, 0.058823529411764705], [0.07058823529411765, 0.07450980392156863, 0.06274509803921569], [0.08627450980392157, 0.08627450980392157, 0.07058823529411765], [0.07450980392156863, 0.06666666666666667, 0.050980392156862744]], [[0.3607843137254902, 0.45098039215686275, 0.5568627450980392], [0.5647058823529412, 0.596078431372549, 0.6666666666666666], [0.7058823529411765, 0.6941176470588235, 0.7098039215686275], [0.7254901960784313, 0.7176470588235294, 0.7176470588235294], [0.6509803921568628, 0.6235294117647059, 0.6], [0.4823529411764706, 0.45098039215686275, 0.403921568627451], [0.2901960784313726, 0.27058823529411763, 0.23529411764705882], [0.23921568627450981, 0.21568627450980393, 0.17647058823529413], [0.34901960784313724, 0.3058823529411765, 0.25098039215686274], [0.5529411764705883, 0.5019607843137255, 0.4117647058823529], [0.41568627450980394, 0.3843137254901961, 0.3176470588235294], [0.2549019607843137, 0.24705882352941178, 0.21568627450980393], [0.3843137254901961, 0.403921568627451, 0.34509803921568627], [0.43529411764705883, 0.4666666666666667, 0.3803921568627451], [0.36470588235294116, 0.403921568627451, 0.32941176470588235], [0.27058823529411763, 0.2980392156862745, 0.23529411764705882], [0.20392156862745098, 0.21568627450980393, 0.1803921568627451], [0.19607843137254902, 0.21568627450980393, 0.18823529411764706], [0.22745098039215686, 0.2627450980392157, 0.21568627450980393], [0.2, 0.2235294117647059, 0.19607843137254902], [0.15294117647058825, 0.1607843137254902, 0.1411764705882353], [0.12156862745098039, 0.13333333333333333, 0.10588235294117647], [0.07058823529411765, 0.07450980392156863, 0.058823529411764705], [0.07058823529411765, 0.06666666666666667, 0.050980392156862744], [0.043137254901960784, 0.047058823529411764, 0.027450980392156862], [0.09411764705882353, 0.08627450980392157, 0.06274509803921569], [0.20392156862745098, 0.16862745098039217, 0.1450980392156863], [0.11372549019607843, 0.10980392156862745, 0.08627450980392157], [0.09019607843137255, 0.09019607843137255, 0.0784313725490196], [0.09019607843137255, 0.08627450980392157, 0.0784313725490196], [0.09019607843137255, 0.08627450980392157, 0.0784313725490196], [0.07450980392156863, 0.054901960784313725, 0.047058823529411764]], [[0.3764705882352941, 0.5529411764705883, 0.7411764705882353], [0.5529411764705883, 0.6196078431372549, 0.7254901960784313], [0.6549019607843137, 0.6627450980392157, 0.7058823529411765], [0.6352941176470588, 0.6274509803921569, 0.6352941176470588], [0.4, 0.3843137254901961, 0.37254901960784315], [0.2549019607843137, 0.23921568627450981, 0.2235294117647059], [0.19607843137254902, 0.1803921568627451, 0.15294117647058825], [0.3176470588235294, 0.2980392156862745, 0.25882352941176473], [0.3215686274509804, 0.2901960784313726, 0.24313725490196078], [0.47058823529411764, 0.43529411764705883, 0.3568627450980392], [0.38823529411764707, 0.37254901960784315, 0.30980392156862746], [0.3254901960784314, 0.3333333333333333, 0.2980392156862745], [0.3568627450980392, 0.3803921568627451, 0.3176470588235294], [0.28627450980392155, 0.3058823529411765, 0.24313725490196078], [0.2196078431372549, 0.23921568627450981, 0.20392156862745098], [0.19607843137254902, 0.20784313725490197, 0.1803921568627451], [0.1843137254901961, 0.18823529411764706, 0.17254901960784313], [0.19215686274509805, 0.20392156862745098, 0.1803921568627451], [0.2, 0.22745098039215686, 0.19215686274509805], [0.21176470588235294, 0.23529411764705882, 0.20784313725490197], [0.14901960784313725, 0.1607843137254902, 0.13725490196078433], [0.10980392156862745, 0.11372549019607843, 0.09803921568627451], [0.07450980392156863, 0.07450980392156863, 0.06666666666666667], [0.07450980392156863, 0.07058823529411765, 0.06274509803921569], [0.054901960784313725, 0.054901960784313725, 0.0392156862745098], [0.11372549019607843, 0.10980392156862745, 0.058823529411764705], [0.23137254901960785, 0.18823529411764706, 0.14901960784313725], [0.13725490196078433, 0.12549019607843137, 0.10980392156862745], [0.050980392156862744, 0.054901960784313725, 0.047058823529411764], [0.06666666666666667, 0.07058823529411765, 0.06274509803921569], [0.043137254901960784, 0.047058823529411764, 0.0392156862745098], [0.09411764705882353, 0.0784313725490196, 0.06666666666666667]], [[0.3607843137254902, 0.5372549019607843, 0.7529411764705882], [0.40784313725490196, 0.5019607843137255, 0.6352941176470588], [0.5803921568627451, 0.6235294117647059, 0.7058823529411765], [0.5215686274509804, 0.5176470588235295, 0.5411764705882353], [0.4627450980392157, 0.4392156862745098, 0.41568627450980394], [0.3058823529411765, 0.2901960784313726, 0.26666666666666666], [0.22745098039215686, 0.2235294117647059, 0.19215686274509805], [0.29411764705882354, 0.2823529411764706, 0.25098039215686274], [0.24705882352941178, 0.23529411764705882, 0.2], [0.21568627450980393, 0.20392156862745098, 0.16470588235294117], [0.2627450980392157, 0.25882352941176473, 0.24313725490196078], [0.33725490196078434, 0.3568627450980392, 0.32941176470588235], [0.2980392156862745, 0.32941176470588235, 0.2784313725490196], [0.24705882352941178, 0.27058823529411763, 0.23921568627450981], [0.20784313725490197, 0.23137254901960785, 0.20784313725490197], [0.17647058823529413, 0.19607843137254902, 0.17254901960784313], [0.16470588235294117, 0.1843137254901961, 0.1607843137254902], [0.17647058823529413, 0.19607843137254902, 0.16862745098039217], [0.19215686274509805, 0.21568627450980393, 0.18823529411764706], [0.18823529411764706, 0.21176470588235294, 0.1843137254901961], [0.14901960784313725, 0.16862745098039217, 0.1411764705882353], [0.11764705882352941, 0.12941176470588237, 0.11372549019607843], [0.12941176470588237, 0.13725490196078433, 0.13725490196078433], [0.07450980392156863, 0.0784313725490196, 0.08235294117647059], [0.054901960784313725, 0.054901960784313725, 0.07058823529411765], [0.054901960784313725, 0.06666666666666667, 0.050980392156862744], [0.07450980392156863, 0.06274509803921569, 0.050980392156862744], [0.0784313725490196, 0.07058823529411765, 0.0784313725490196], [0.07058823529411765, 0.06666666666666667, 0.07058823529411765], [0.047058823529411764, 0.047058823529411764, 0.043137254901960784], [0.023529411764705882, 0.03137254901960784, 0.027450980392156862], [0.08235294117647059, 0.07058823529411765, 0.047058823529411764]], [[0.2196078431372549, 0.3686274509803922, 0.5254901960784314], [0.13725490196078433, 0.22745098039215686, 0.3607843137254902], [0.3803921568627451, 0.43137254901960786, 0.5607843137254902], [0.5411764705882353, 0.5411764705882353, 0.592156862745098], [0.5019607843137255, 0.47058823529411764, 0.4627450980392157], [0.3058823529411765, 0.29411764705882354, 0.28627450980392155], [0.17254901960784313, 0.17647058823529413, 0.1568627450980392], [0.19215686274509805, 0.19607843137254902, 0.17254901960784313], [0.25098039215686274, 0.25098039215686274, 0.23137254901960785], [0.26666666666666666, 0.2627450980392157, 0.24705882352941178], [0.2627450980392157, 0.2549019607843137, 0.23529411764705882], [0.23137254901960785, 0.23529411764705882, 0.19607843137254902], [0.1843137254901961, 0.19215686274509805, 0.1607843137254902], [0.18823529411764706, 0.19607843137254902, 0.19607843137254902], [0.1843137254901961, 0.20392156862745098, 0.19215686274509805], [0.2, 0.2235294117647059, 0.2], [0.19607843137254902, 0.2235294117647059, 0.19215686274509805], [0.20392156862745098, 0.23137254901960785, 0.2], [0.2, 0.2235294117647059, 0.19215686274509805], [0.1803921568627451, 0.2, 0.17254901960784313], [0.15294117647058825, 0.17647058823529413, 0.1450980392156863], [0.1411764705882353, 0.1607843137254902, 0.12549019607843137], [0.12549019607843137, 0.13333333333333333, 0.11764705882352941], [0.10196078431372549, 0.10588235294117647, 0.09803921568627451], [0.10588235294117647, 0.10980392156862745, 0.11764705882352941], [0.08235294117647059, 0.09803921568627451, 0.09411764705882353], [0.058823529411764705, 0.07058823529411765, 0.058823529411764705], [0.03137254901960784, 0.03137254901960784, 0.027450980392156862], [0.0784313725490196, 0.06666666666666667, 0.06274509803921569], [0.09019607843137255, 0.09019607843137255, 0.08235294117647059], [0.07058823529411765, 0.07450980392156863, 0.07058823529411765], [0.13725490196078433, 0.12156862745098039, 0.09019607843137255]], [[0.20392156862745098, 0.33725490196078434, 0.5333333333333333], [0.1843137254901961, 0.3137254901960784, 0.4745098039215686], [0.3411764705882353, 0.4196078431372549, 0.5686274509803921], [0.4627450980392157, 0.47843137254901963, 0.5294117647058824], [0.24705882352941178, 0.24313725490196078, 0.25098039215686274], [0.13725490196078433, 0.13333333333333333, 0.13725490196078433], [0.1607843137254902, 0.16862745098039217, 0.15294117647058825], [0.25098039215686274, 0.2549019607843137, 0.23529411764705882], [0.26666666666666666, 0.26666666666666666, 0.24313725490196078], [0.27450980392156865, 0.2627450980392157, 0.23921568627450981], [0.2823529411764706, 0.26666666666666666, 0.2235294117647059], [0.25882352941176473, 0.24705882352941178, 0.20784313725490197], [0.20784313725490197, 0.19607843137254902, 0.16862745098039217], [0.16470588235294117, 0.1568627450980392, 0.15294117647058825], [0.12941176470588237, 0.12941176470588237, 0.11764705882352941], [0.14901960784313725, 0.1568627450980392, 0.13725490196078433], [0.17647058823529413, 0.18823529411764706, 0.16470588235294117], [0.17647058823529413, 0.19215686274509805, 0.16470588235294117], [0.1803921568627451, 0.19215686274509805, 0.16470588235294117], [0.17647058823529413, 0.18823529411764706, 0.1607843137254902], [0.16862745098039217, 0.18823529411764706, 0.1568627450980392], [0.13725490196078433, 0.14901960784313725, 0.12549019607843137], [0.09803921568627451, 0.10196078431372549, 0.09411764705882353], [0.10980392156862745, 0.11372549019607843, 0.09803921568627451], [0.10196078431372549, 0.09803921568627451, 0.09019607843137255], [0.10980392156862745, 0.09019607843137255, 0.0784313725490196], [0.06274509803921569, 0.054901960784313725, 0.047058823529411764], [0.0392156862745098, 0.0392156862745098, 0.023529411764705882], [0.09803921568627451, 0.09411764705882353, 0.0784313725490196], [0.10196078431372549, 0.10588235294117647, 0.08627450980392157], [0.19215686274509805, 0.19215686274509805, 0.17647058823529413], [0.396078431372549, 0.3803921568627451, 0.34509803921568627]], [[0.21176470588235294, 0.3333333333333333, 0.5019607843137255], [0.1607843137254902, 0.28627450980392155, 0.4235294117647059], [0.1843137254901961, 0.2549019607843137, 0.34901960784313724], [0.19607843137254902, 0.2196078431372549, 0.24313725490196078], [0.10196078431372549, 0.12156862745098039, 0.12156862745098039], [0.12941176470588237, 0.13333333333333333, 0.12941176470588237], [0.20784313725490197, 0.21568627450980393, 0.20784313725490197], [0.23529411764705882, 0.23921568627450981, 0.2196078431372549], [0.2627450980392157, 0.2549019607843137, 0.22745098039215686], [0.26666666666666666, 0.2549019607843137, 0.22745098039215686], [0.25098039215686274, 0.24313725490196078, 0.21176470588235294], [0.23921568627450981, 0.22745098039215686, 0.21176470588235294], [0.22745098039215686, 0.2196078431372549, 0.19215686274509805], [0.20392156862745098, 0.2, 0.1803921568627451], [0.17647058823529413, 0.17254901960784313, 0.1568627450980392], [0.1568627450980392, 0.14901960784313725, 0.12941176470588237], [0.1411764705882353, 0.1450980392156863, 0.12549019607843137], [0.12156862745098039, 0.13333333333333333, 0.10980392156862745], [0.12549019607843137, 0.13333333333333333, 0.10196078431372549], [0.1411764705882353, 0.1450980392156863, 0.11372549019607843], [0.12549019607843137, 0.13725490196078433, 0.10980392156862745], [0.12549019607843137, 0.12549019607843137, 0.11372549019607843], [0.12549019607843137, 0.11372549019607843, 0.09411764705882353], [0.06274509803921569, 0.050980392156862744, 0.047058823529411764], [0.050980392156862744, 0.03137254901960784, 0.03137254901960784], [0.09803921568627451, 0.058823529411764705, 0.054901960784313725], [0.09803921568627451, 0.07450980392156863, 0.06274509803921569], [0.1411764705882353, 0.1450980392156863, 0.11764705882352941], [0.2, 0.20392156862745098, 0.16470588235294117], [0.17254901960784313, 0.17647058823529413, 0.13725490196078433], [0.3333333333333333, 0.32941176470588235, 0.30196078431372547], [0.5333333333333333, 0.5176470588235295, 0.4745098039215686]], [[0.5137254901960784, 0.6392156862745098, 0.792156862745098], [0.3843137254901961, 0.4980392156862745, 0.6470588235294118], [0.16470588235294117, 0.21568627450980393, 0.27058823529411763], [0.06274509803921569, 0.06666666666666667, 0.07058823529411765], [0.09803921568627451, 0.10196078431372549, 0.10588235294117647], [0.1607843137254902, 0.16470588235294117, 0.17254901960784313], [0.19607843137254902, 0.20392156862745098, 0.19607843137254902], [0.24705882352941178, 0.25098039215686274, 0.22745098039215686], [0.25882352941176473, 0.25882352941176473, 0.23137254901960785], [0.23137254901960785, 0.23137254901960785, 0.20784313725490197], [0.20392156862745098, 0.20392156862745098, 0.1803921568627451], [0.18823529411764706, 0.1843137254901961, 0.17254901960784313], [0.1843137254901961, 0.17647058823529413, 0.1607843137254902], [0.17254901960784313, 0.16862745098039217, 0.15294117647058825], [0.16862745098039217, 0.1607843137254902, 0.15294117647058825], [0.1568627450980392, 0.14901960784313725, 0.13333333333333333], [0.13333333333333333, 0.13333333333333333, 0.11764705882352941], [0.12549019607843137, 0.12549019607843137, 0.10588235294117647], [0.12549019607843137, 0.12549019607843137, 0.09411764705882353], [0.12156862745098039, 0.11764705882352941, 0.09019607843137255], [0.08627450980392157, 0.09019607843137255, 0.07450980392156863], [0.11372549019607843, 0.10196078431372549, 0.08235294117647059], [0.2901960784313726, 0.27058823529411763, 0.1803921568627451], [0.06666666666666667, 0.054901960784313725, 0.03529411764705882], [0.07058823529411765, 0.03529411764705882, 0.0392156862745098], [0.1843137254901961, 0.1568627450980392, 0.13333333333333333], [0.27450980392156865, 0.26666666666666666, 0.21176470588235294], [0.30980392156862746, 0.3176470588235294, 0.25882352941176473], [0.29411764705882354, 0.2980392156862745, 0.25098039215686274], [0.24705882352941178, 0.25098039215686274, 0.20784313725490197], [0.43529411764705883, 0.43529411764705883, 0.4], [0.5254901960784314, 0.5215686274509804, 0.47058823529411764]], [[0.5058823529411764, 0.6274509803921569, 0.796078431372549], [0.3215686274509804, 0.4470588235294118, 0.6235294117647059], [0.09411764705882353, 0.13333333333333333, 0.16862745098039217], [0.0784313725490196, 0.08235294117647059, 0.08235294117647059], [0.13333333333333333, 0.13725490196078433, 0.1568627450980392], [0.23137254901960785, 0.23529411764705882, 0.25098039215686274], [0.20392156862745098, 0.21568627450980393, 0.19607843137254902], [0.25098039215686274, 0.25882352941176473, 0.22745098039215686], [0.20784313725490197, 0.20784313725490197, 0.1843137254901961], [0.16862745098039217, 0.17254901960784313, 0.1568627450980392], [0.15294117647058825, 0.1568627450980392, 0.1450980392156863], [0.1450980392156863, 0.14901960784313725, 0.1411764705882353], [0.13725490196078433, 0.13725490196078433, 0.12941176470588237], [0.14901960784313725, 0.1411764705882353, 0.12549019607843137], [0.14901960784313725, 0.14901960784313725, 0.12941176470588237], [0.1450980392156863, 0.1568627450980392, 0.13333333333333333], [0.1411764705882353, 0.1411764705882353, 0.12156862745098039], [0.13333333333333333, 0.12549019607843137, 0.10588235294117647], [0.11372549019607843, 0.10980392156862745, 0.09411764705882353], [0.07450980392156863, 0.07058823529411765, 0.07058823529411765], [0.06274509803921569, 0.06274509803921569, 0.07058823529411765], [0.050980392156862744, 0.0392156862745098, 0.0392156862745098], [0.1607843137254902, 0.1450980392156863, 0.09803921568627451], [0.08235294117647059, 0.0784313725490196, 0.058823529411764705], [0.21568627450980393, 0.2, 0.1607843137254902], [0.35294117647058826, 0.34509803921568627, 0.27450980392156865], [0.38823529411764707, 0.3843137254901961, 0.30980392156862746], [0.3137254901960784, 0.30980392156862746, 0.2549019607843137], [0.10588235294117647, 0.10196078431372549, 0.08235294117647059], [0.17647058823529413, 0.1803921568627451, 0.1607843137254902], [0.48627450980392156, 0.48627450980392156, 0.4588235294117647], [0.5568627450980392, 0.5490196078431373, 0.5058823529411764]], [[0.32941176470588235, 0.4627450980392157, 0.6588235294117647], [0.11764705882352941, 0.2235294117647059, 0.3411764705882353], [0.043137254901960784, 0.06274509803921569, 0.07058823529411765], [0.07058823529411765, 0.08627450980392157, 0.09019607843137255], [0.10980392156862745, 0.11372549019607843, 0.13333333333333333], [0.1568627450980392, 0.1568627450980392, 0.16470588235294117], [0.12156862745098039, 0.12941176470588237, 0.11764705882352941], [0.13333333333333333, 0.1411764705882353, 0.13333333333333333], [0.12549019607843137, 0.12941176470588237, 0.13333333333333333], [0.12156862745098039, 0.12156862745098039, 0.12941176470588237], [0.11372549019607843, 0.12156862745098039, 0.12156862745098039], [0.11764705882352941, 0.12549019607843137, 0.11764705882352941], [0.1568627450980392, 0.16470588235294117, 0.14901960784313725], [0.17647058823529413, 0.17254901960784313, 0.1607843137254902], [0.1803921568627451, 0.1843137254901961, 0.16470588235294117], [0.19607843137254902, 0.1843137254901961, 0.1607843137254902], [0.1411764705882353, 0.12941176470588237, 0.11372549019607843], [0.11764705882352941, 0.11372549019607843, 0.08627450980392157], [0.10588235294117647, 0.10196078431372549, 0.0784313725490196], [0.058823529411764705, 0.058823529411764705, 0.050980392156862744], [0.07058823529411765, 0.07450980392156863, 0.06666666666666667], [0.1450980392156863, 0.1450980392156863, 0.12156862745098039], [0.1803921568627451, 0.17254901960784313, 0.13333333333333333], [0.25098039215686274, 0.24705882352941178, 0.2], [0.39215686274509803, 0.3843137254901961, 0.30980392156862746], [0.4196078431372549, 0.4117647058823529, 0.3333333333333333], [0.3843137254901961, 0.3764705882352941, 0.3176470588235294], [0.2196078431372549, 0.20784313725490197, 0.17647058823529413], [0.0784313725490196, 0.07058823529411765, 0.058823529411764705], [0.13725490196078433, 0.13333333333333333, 0.11372549019607843], [0.34901960784313724, 0.34509803921568627, 0.3058823529411765], [0.5882352941176471, 0.5764705882352941, 0.5215686274509804]], [[0.27450980392156865, 0.38823529411764707, 0.5568627450980392], [0.06274509803921569, 0.14901960784313725, 0.23137254901960785], [0.047058823529411764, 0.050980392156862744, 0.0784313725490196], [0.043137254901960784, 0.054901960784313725, 0.07058823529411765], [0.09803921568627451, 0.10980392156862745, 0.09411764705882353], [0.09803921568627451, 0.10196078431372549, 0.08235294117647059], [0.08235294117647059, 0.09019607843137255, 0.08235294117647059], [0.08235294117647059, 0.09411764705882353, 0.10196078431372549], [0.08627450980392157, 0.09803921568627451, 0.10588235294117647], [0.09411764705882353, 0.09411764705882353, 0.09803921568627451], [0.09803921568627451, 0.10196078431372549, 0.10196078431372549], [0.17647058823529413, 0.1803921568627451, 0.16470588235294117], [0.21176470588235294, 0.21568627450980393, 0.19607843137254902], [0.24313725490196078, 0.24313725490196078, 0.23529411764705882], [0.43529411764705883, 0.403921568627451, 0.37254901960784315], [0.4980392156862745, 0.3843137254901961, 0.3333333333333333], [0.37254901960784315, 0.3137254901960784, 0.2823529411764706], [0.12549019607843137, 0.13333333333333333, 0.11372549019607843], [0.06666666666666667, 0.06666666666666667, 0.054901960784313725], [0.07058823529411765, 0.07058823529411765, 0.054901960784313725], [0.09803921568627451, 0.09803921568627451, 0.07450980392156863], [0.043137254901960784, 0.043137254901960784, 0.0392156862745098], [0.21568627450980393, 0.21176470588235294, 0.16470588235294117], [0.4196078431372549, 0.396078431372549, 0.33725490196078434], [0.43529411764705883, 0.41568627450980394, 0.33725490196078434], [0.40784313725490196, 0.396078431372549, 0.3254901960784314], [0.2823529411764706, 0.27450980392156865, 0.23529411764705882], [0.13725490196078433, 0.13333333333333333, 0.11372549019607843], [0.20784313725490197, 0.19607843137254902, 0.16470588235294117], [0.23921568627450981, 0.22745098039215686, 0.1803921568627451], [0.4588235294117647, 0.4470588235294118, 0.3803921568627451], [0.7137254901960784, 0.6901960784313725, 0.6196078431372549]], [[0.3215686274509804, 0.4745098039215686, 0.6705882352941176], [0.13333333333333333, 0.25882352941176473, 0.4470588235294118], [0.11764705882352941, 0.20392156862745098, 0.3176470588235294], [0.047058823529411764, 0.07058823529411765, 0.09803921568627451], [0.13333333333333333, 0.1411764705882353, 0.13333333333333333], [0.11764705882352941, 0.11764705882352941, 0.11372549019607843], [0.07058823529411765, 0.07058823529411765, 0.07058823529411765], [0.07058823529411765, 0.0784313725490196, 0.08235294117647059], [0.07058823529411765, 0.08235294117647059, 0.0784313725490196], [0.09019607843137255, 0.09803921568627451, 0.08627450980392157], [0.1607843137254902, 0.16862745098039217, 0.1607843137254902], [0.1803921568627451, 0.1843137254901961, 0.16862745098039217], [0.1843137254901961, 0.1803921568627451, 0.1568627450980392], [0.35294117647058826, 0.34901960784313724, 0.33725490196078434], [0.5803921568627451, 0.5372549019607843, 0.5137254901960784], [0.48627450980392156, 0.3607843137254902, 0.30196078431372547], [0.2980392156862745, 0.23921568627450981, 0.19607843137254902], [0.09411764705882353, 0.09803921568627451, 0.08627450980392157], [0.06274509803921569, 0.058823529411764705, 0.058823529411764705], [0.12156862745098039, 0.11372549019607843, 0.09411764705882353], [0.3215686274509804, 0.30196078431372547, 0.26666666666666666], [0.2901960784313726, 0.27450980392156865, 0.24313725490196078], [0.17254901960784313, 0.1607843137254902, 0.12549019607843137], [0.4470588235294118, 0.41568627450980394, 0.32941176470588235], [0.4627450980392157, 0.43137254901960786, 0.33725490196078434], [0.3333333333333333, 0.3137254901960784, 0.2549019607843137], [0.2, 0.19607843137254902, 0.1568627450980392], [0.24705882352941178, 0.23529411764705882, 0.19215686274509805], [0.4823529411764706, 0.4549019607843137, 0.39215686274509803], [0.7137254901960784, 0.6901960784313725, 0.615686274509804], [0.788235294117647, 0.7686274509803922, 0.6901960784313725], [0.7803921568627451, 0.7568627450980392, 0.6784313725490196]], [[0.35294117647058826, 0.5137254901960784, 0.7019607843137254], [0.16470588235294117, 0.3411764705882353, 0.5607843137254902], [0.1607843137254902, 0.29411764705882354, 0.4392156862745098], [0.06666666666666667, 0.12156862745098039, 0.1843137254901961], [0.050980392156862744, 0.058823529411764705, 0.07450980392156863], [0.050980392156862744, 0.054901960784313725, 0.07058823529411765], [0.058823529411764705, 0.06666666666666667, 0.07450980392156863], [0.06274509803921569, 0.07058823529411765, 0.07450980392156863], [0.07450980392156863, 0.08627450980392157, 0.08627450980392157], [0.08627450980392157, 0.10196078431372549, 0.09411764705882353], [0.1607843137254902, 0.16470588235294117, 0.15294117647058825], [0.2196078431372549, 0.21176470588235294, 0.20392156862745098], [0.25098039215686274, 0.23137254901960785, 0.21176470588235294], [0.3568627450980392, 0.33725490196078434, 0.3176470588235294], [0.3607843137254902, 0.3333333333333333, 0.3176470588235294], [0.23529411764705882, 0.19215686274509805, 0.1568627450980392], [0.10196078431372549, 0.09411764705882353, 0.07450980392156863], [0.054901960784313725, 0.058823529411764705, 0.054901960784313725], [0.08235294117647059, 0.07058823529411765, 0.06274509803921569], [0.25098039215686274, 0.22745098039215686, 0.18823529411764706], [0.5686274509803921, 0.5372549019607843, 0.49019607843137253], [0.6274509803921569, 0.5882352941176471, 0.5529411764705883], [0.2549019607843137, 0.22745098039215686, 0.1843137254901961], [0.5058823529411764, 0.45098039215686275, 0.3764705882352941], [0.41568627450980394, 0.3607843137254902, 0.30196078431372547], [0.23529411764705882, 0.21176470588235294, 0.16862745098039217], [0.3137254901960784, 0.29411764705882354, 0.23921568627450981], [0.5882352941176471, 0.5529411764705883, 0.47058823529411764], [0.8235294117647058, 0.7764705882352941, 0.6901960784313725], [0.8549019607843137, 0.8196078431372549, 0.7372549019607844], [0.8313725490196079, 0.803921568627451, 0.7294117647058823], [0.803921568627451, 0.788235294117647, 0.7098039215686275]], [[0.36470588235294116, 0.49019607843137253, 0.6352941176470588], [0.1450980392156863, 0.28627450980392155, 0.45098039215686275], [0.15294117647058825, 0.2784313725490196, 0.4117647058823529], [0.06666666666666667, 0.10980392156862745, 0.16862745098039217], [0.027450980392156862, 0.047058823529411764, 0.07450980392156863], [0.027450980392156862, 0.03529411764705882, 0.0392156862745098], [0.0392156862745098, 0.047058823529411764, 0.047058823529411764], [0.047058823529411764, 0.06666666666666667, 0.07058823529411765], [0.06274509803921569, 0.07450980392156863, 0.07450980392156863], [0.058823529411764705, 0.06274509803921569, 0.06274509803921569], [0.16862745098039217, 0.1607843137254902, 0.1607843137254902], [0.34509803921568627, 0.32941176470588235, 0.32941176470588235], [0.32941176470588235, 0.30196078431372547, 0.29411764705882354], [0.2901960784313726, 0.2627450980392157, 0.24313725490196078], [0.16470588235294117, 0.15294117647058825, 0.13333333333333333], [0.09019607843137255, 0.09411764705882353, 0.0784313725490196], [0.0784313725490196, 0.08627450980392157, 0.08235294117647059], [0.09019607843137255, 0.09411764705882353, 0.0784313725490196], [0.19215686274509805, 0.1607843137254902, 0.13333333333333333], [0.4392156862745098, 0.39215686274509803, 0.3411764705882353], [0.6941176470588235, 0.6627450980392157, 0.611764705882353], [0.6588235294117647, 0.6235294117647059, 0.5843137254901961], [0.37254901960784315, 0.33725490196078434, 0.2980392156862745], [0.4196078431372549, 0.3568627450980392, 0.3058823529411765], [0.29411764705882354, 0.23921568627450981, 0.2], [0.39215686274509803, 0.34901960784313724, 0.29411764705882354], [0.7254901960784313, 0.6705882352941176, 0.5803921568627451], [0.8823529411764706, 0.8313725490196079, 0.7333333333333333], [0.8745098039215686, 0.8235294117647058, 0.7372549019607844], [0.8549019607843137, 0.8117647058823529, 0.7333333333333333], [0.8470588235294118, 0.8117647058823529, 0.7372549019607844], [0.8313725490196079, 0.803921568627451, 0.7294117647058823]], [[0.3764705882352941, 0.5137254901960784, 0.6901960784313725], [0.08235294117647059, 0.16862745098039217, 0.2784313725490196], [0.10196078431372549, 0.18823529411764706, 0.3058823529411765], [0.08627450980392157, 0.1450980392156863, 0.23529411764705882], [0.050980392156862744, 0.08235294117647059, 0.13333333333333333], [0.03137254901960784, 0.054901960784313725, 0.08627450980392157], [0.03529411764705882, 0.043137254901960784, 0.054901960784313725], [0.047058823529411764, 0.050980392156862744, 0.054901960784313725], [0.047058823529411764, 0.047058823529411764, 0.047058823529411764], [0.050980392156862744, 0.050980392156862744, 0.047058823529411764], [0.08627450980392157, 0.09411764705882353, 0.09411764705882353], [0.13725490196078433, 0.13725490196078433, 0.1450980392156863], [0.1450980392156863, 0.1411764705882353, 0.13725490196078433], [0.12549019607843137, 0.12156862745098039, 0.11372549019607843], [0.09803921568627451, 0.10588235294117647, 0.09019607843137255], [0.08627450980392157, 0.09411764705882353, 0.07450980392156863], [0.12941176470588237, 0.11764705882352941, 0.09411764705882353], [0.20392156862745098, 0.18823529411764706, 0.1450980392156863], [0.30196078431372547, 0.27058823529411763, 0.22745098039215686], [0.5764705882352941, 0.5254901960784314, 0.47058823529411764], [0.7764705882352941, 0.7294117647058823, 0.6784313725490196], [0.6274509803921569, 0.5803921568627451, 0.5529411764705883], [0.3803921568627451, 0.35294117647058826, 0.30980392156862746], [0.3215686274509804, 0.30196078431372547, 0.23137254901960785], [0.4588235294117647, 0.42745098039215684, 0.35294117647058826], [0.8, 0.7411764705882353, 0.6431372549019608], [0.9294117647058824, 0.8549019607843137, 0.7568627450980392], [0.9058823529411765, 0.8431372549019608, 0.7568627450980392], [0.8823529411764706, 0.8274509803921568, 0.7450980392156863], [0.8705882352941177, 0.8156862745098039, 0.7411764705882353], [0.8666666666666667, 0.8156862745098039, 0.7411764705882353], [0.8549019607843137, 0.8117647058823529, 0.7333333333333333]], [[0.4117647058823529, 0.5882352941176471, 0.803921568627451], [0.1450980392156863, 0.27058823529411763, 0.3764705882352941], [0.050980392156862744, 0.08627450980392157, 0.12549019607843137], [0.043137254901960784, 0.07450980392156863, 0.12549019607843137], [0.050980392156862744, 0.09019607843137255, 0.1450980392156863], [0.043137254901960784, 0.08627450980392157, 0.1450980392156863], [0.03137254901960784, 0.047058823529411764, 0.08235294117647059], [0.0392156862745098, 0.047058823529411764, 0.07058823529411765], [0.03137254901960784, 0.043137254901960784, 0.06666666666666667], [0.054901960784313725, 0.07058823529411765, 0.08627450980392157], [0.047058823529411764, 0.058823529411764705, 0.06666666666666667], [0.043137254901960784, 0.047058823529411764, 0.06274509803921569], [0.12156862745098039, 0.12941176470588237, 0.13333333333333333], [0.13725490196078433, 0.13333333333333333, 0.12941176470588237], [0.1450980392156863, 0.13333333333333333, 0.11372549019607843], [0.2, 0.1843137254901961, 0.1450980392156863], [0.24705882352941178, 0.2196078431372549, 0.18823529411764706], [0.2235294117647059, 0.19215686274509805, 0.16470588235294117], [0.2784313725490196, 0.25098039215686274, 0.23137254901960785], [0.5882352941176471, 0.5490196078431373, 0.49019607843137253], [0.7686274509803922, 0.7137254901960784, 0.6235294117647059], [0.5568627450980392, 0.5176470588235295, 0.49019607843137253], [0.33725490196078434, 0.3058823529411765, 0.2549019607843137], [0.5019607843137255, 0.4745098039215686, 0.3843137254901961], [0.8313725490196079, 0.7803921568627451, 0.6823529411764706], [0.9254901960784314, 0.8588235294117647, 0.7529411764705882], [0.9058823529411765, 0.8392156862745098, 0.7411764705882353], [0.9058823529411765, 0.8431372549019608, 0.7529411764705882], [0.9098039215686274, 0.8470588235294118, 0.7686274509803922], [0.9058823529411765, 0.8431372549019608, 0.7686274509803922], [0.8901960784313725, 0.8313725490196079, 0.7529411764705882], [0.8784313725490196, 0.8196078431372549, 0.7411764705882353]], [[0.43529411764705883, 0.6313725490196078, 0.8431372549019608], [0.25882352941176473, 0.4, 0.5529411764705883], [0.0392156862745098, 0.058823529411764705, 0.09411764705882353], [0.043137254901960784, 0.058823529411764705, 0.08235294117647059], [0.03137254901960784, 0.043137254901960784, 0.06666666666666667], [0.0196078431372549, 0.03529411764705882, 0.043137254901960784], [0.027450980392156862, 0.03529411764705882, 0.050980392156862744], [0.03529411764705882, 0.047058823529411764, 0.06666666666666667], [0.03137254901960784, 0.054901960784313725, 0.0784313725490196], [0.047058823529411764, 0.06274509803921569, 0.08235294117647059], [0.043137254901960784, 0.058823529411764705, 0.08627450980392157], [0.08235294117647059, 0.09411764705882353, 0.13333333333333333], [0.17254901960784313, 0.1803921568627451, 0.19607843137254902], [0.24313725490196078, 0.22745098039215686, 0.20784313725490197], [0.2980392156862745, 0.26666666666666666, 0.22745098039215686], [0.3176470588235294, 0.2823529411764706, 0.23921568627450981], [0.2823529411764706, 0.25098039215686274, 0.21568627450980393], [0.26666666666666666, 0.23529411764705882, 0.18823529411764706], [0.35294117647058826, 0.3215686274509804, 0.28627450980392155], [0.7098039215686275, 0.6705882352941176, 0.6235294117647059], [0.7686274509803922, 0.7215686274509804, 0.6588235294117647], [0.5647058823529412, 0.5333333333333333, 0.4980392156862745], [0.5137254901960784, 0.4666666666666667, 0.396078431372549], [0.8627450980392157, 0.803921568627451, 0.7019607843137254], [0.9411764705882353, 0.8666666666666667, 0.7686274509803922], [0.9215686274509803, 0.8509803921568627, 0.7529411764705882], [0.9098039215686274, 0.8431372549019608, 0.7490196078431373], [0.9137254901960784, 0.8470588235294118, 0.7490196078431373], [0.9215686274509803, 0.8549019607843137, 0.7647058823529411], [0.9254901960784314, 0.8588235294117647, 0.7725490196078432], [0.9137254901960784, 0.8509803921568627, 0.7647058823529411], [0.8980392156862745, 0.8352941176470589, 0.7490196078431373]], [[0.42745098039215684, 0.6235294117647059, 0.8431372549019608], [0.33725490196078434, 0.5450980392156862, 0.7686274509803922], [0.12549019607843137, 0.2196078431372549, 0.3137254901960784], [0.01568627450980392, 0.03137254901960784, 0.043137254901960784], [0.06666666666666667, 0.0784313725490196, 0.10196078431372549], [0.10588235294117647, 0.1411764705882353, 0.18823529411764706], [0.10980392156862745, 0.14901960784313725, 0.19607843137254902], [0.10980392156862745, 0.12941176470588237, 0.15294117647058825], [0.043137254901960784, 0.06666666666666667, 0.0784313725490196], [0.023529411764705882, 0.0392156862745098, 0.047058823529411764], [0.054901960784313725, 0.07058823529411765, 0.09411764705882353], [0.12156862745098039, 0.1411764705882353, 0.1843137254901961], [0.1803921568627451, 0.18823529411764706, 0.20392156862745098], [0.27058823529411763, 0.25098039215686274, 0.22745098039215686], [0.3215686274509804, 0.2901960784313726, 0.24705882352941178], [0.3254901960784314, 0.2901960784313726, 0.24705882352941178], [0.3215686274509804, 0.2823529411764706, 0.23529411764705882], [0.27450980392156865, 0.23921568627450981, 0.19607843137254902], [0.4470588235294118, 0.4117647058823529, 0.3686274509803922], [0.6823529411764706, 0.6352941176470588, 0.596078431372549], [0.6745098039215687, 0.6313725490196078, 0.5882352941176471], [0.6, 0.5686274509803921, 0.5058823529411764], [0.8274509803921568, 0.7764705882352941, 0.6862745098039216], [0.9529411764705882, 0.8901960784313725, 0.792156862745098], [0.9411764705882353, 0.8745098039215686, 0.7803921568627451], [0.9372549019607843, 0.8705882352941177, 0.7764705882352941], [0.9333333333333333, 0.8627450980392157, 0.7725490196078432], [0.9333333333333333, 0.8627450980392157, 0.7764705882352941], [0.9254901960784314, 0.8627450980392157, 0.7764705882352941], [0.9254901960784314, 0.8627450980392157, 0.7764705882352941], [0.9215686274509803, 0.8588235294117647, 0.7686274509803922], [0.9137254901960784, 0.8509803921568627, 0.7568627450980392]], [[0.43137254901960786, 0.615686274509804, 0.8274509803921568], [0.34509803921568627, 0.5843137254901961, 0.8352941176470589], [0.2784313725490196, 0.5019607843137255, 0.7137254901960784], [0.11372549019607843, 0.22745098039215686, 0.3411764705882353], [0.06666666666666667, 0.09803921568627451, 0.1411764705882353], [0.1411764705882353, 0.1843137254901961, 0.27058823529411763], [0.17647058823529413, 0.23921568627450981, 0.3333333333333333], [0.1803921568627451, 0.19215686274509805, 0.2196078431372549], [0.047058823529411764, 0.043137254901960784, 0.0392156862745098], [0.011764705882352941, 0.01568627450980392, 0.0196078431372549], [0.01568627450980392, 0.023529411764705882, 0.023529411764705882], [0.08627450980392157, 0.09411764705882353, 0.10980392156862745], [0.19607843137254902, 0.2, 0.20392156862745098], [0.25882352941176473, 0.23921568627450981, 0.2196078431372549], [0.30980392156862746, 0.27450980392156865, 0.23921568627450981], [0.3176470588235294, 0.2823529411764706, 0.24313725490196078], [0.30196078431372547, 0.27058823529411763, 0.22745098039215686], [0.27450980392156865, 0.24313725490196078, 0.20392156862745098], [0.38823529411764707, 0.3568627450980392, 0.3176470588235294], [0.5450980392156862, 0.4980392156862745, 0.4627450980392157], [0.611764705882353, 0.5647058823529412, 0.5254901960784314], [0.7450980392156863, 0.7058823529411765, 0.6274509803921569], [0.9607843137254902, 0.9058823529411765, 0.8196078431372549], [0.9607843137254902, 0.8980392156862745, 0.8196078431372549], [0.9568627450980393, 0.8941176470588236, 0.8196078431372549], [0.9568627450980393, 0.8941176470588236, 0.8117647058823529], [0.9450980392156862, 0.8862745098039215, 0.803921568627451], [0.9450980392156862, 0.8823529411764706, 0.803921568627451], [0.9411764705882353, 0.8784313725490196, 0.807843137254902], [0.9333333333333333, 0.8705882352941177, 0.792156862745098], [0.9294117647058824, 0.8666666666666667, 0.7725490196078432], [0.9254901960784314, 0.8627450980392157, 0.7647058823529411]], [[0.44313725490196076, 0.615686274509804, 0.8156862745098039], [0.3843137254901961, 0.5843137254901961, 0.8156862745098039], [0.3333333333333333, 0.5607843137254902, 0.796078431372549], [0.27450980392156865, 0.4823529411764706, 0.7215686274509804], [0.16470588235294117, 0.32941176470588235, 0.5098039215686274], [0.11764705882352941, 0.23529411764705882, 0.36470588235294116], [0.1803921568627451, 0.27058823529411763, 0.4117647058823529], [0.24705882352941178, 0.28627450980392155, 0.3607843137254902], [0.09019607843137255, 0.09803921568627451, 0.11372549019607843], [0.03529411764705882, 0.043137254901960784, 0.043137254901960784], [0.01568627450980392, 0.023529411764705882, 0.027450980392156862], [0.050980392156862744, 0.054901960784313725, 0.06274509803921569], [0.19607843137254902, 0.19607843137254902, 0.19607843137254902], [0.25098039215686274, 0.23529411764705882, 0.21568627450980393], [0.2901960784313726, 0.25882352941176473, 0.23137254901960785], [0.24313725490196078, 0.2196078431372549, 0.19215686274509805], [0.25098039215686274, 0.22745098039215686, 0.20392156862745098], [0.25098039215686274, 0.22745098039215686, 0.2196078431372549], [0.25098039215686274, 0.2235294117647059, 0.19215686274509805], [0.4745098039215686, 0.43529411764705883, 0.3803921568627451], [0.7333333333333333, 0.6862745098039216, 0.6235294117647059], [0.9490196078431372, 0.9058823529411765, 0.8313725490196079], [0.9725490196078431, 0.9137254901960784, 0.8470588235294118], [0.9686274509803922, 0.9098039215686274, 0.8470588235294118], [0.9647058823529412, 0.9098039215686274, 0.8470588235294118], [0.9647058823529412, 0.9098039215686274, 0.8392156862745098], [0.9607843137254902, 0.9058823529411765, 0.8352941176470589], [0.9529411764705882, 0.8980392156862745, 0.8274509803921568], [0.9450980392156862, 0.8901960784313725, 0.8274509803921568], [0.9372549019607843, 0.8784313725490196, 0.807843137254902], [0.9294117647058824, 0.8666666666666667, 0.7803921568627451], [0.9254901960784314, 0.8627450980392157, 0.7686274509803922]], [[0.45098039215686275, 0.6196078431372549, 0.8156862745098039], [0.42745098039215684, 0.596078431372549, 0.8117647058823529], [0.396078431372549, 0.5882352941176471, 0.8117647058823529], [0.37254901960784315, 0.5647058823529412, 0.792156862745098], [0.3058823529411765, 0.5019607843137255, 0.7294117647058823], [0.21568627450980393, 0.38823529411764707, 0.5882352941176471], [0.1450980392156863, 0.2901960784313726, 0.4588235294117647], [0.14901960784313725, 0.23921568627450981, 0.35294117647058826], [0.13725490196078433, 0.1843137254901961, 0.24705882352941178], [0.12549019607843137, 0.1450980392156863, 0.18823529411764706], [0.09803921568627451, 0.11372549019607843, 0.1450980392156863], [0.1411764705882353, 0.1450980392156863, 0.1568627450980392], [0.23529411764705882, 0.22745098039215686, 0.2196078431372549], [0.24313725490196078, 0.22745098039215686, 0.20392156862745098], [0.25882352941176473, 0.24313725490196078, 0.21568627450980393], [0.23137254901960785, 0.2196078431372549, 0.21176470588235294], [0.26666666666666666, 0.25882352941176473, 0.2627450980392157], [0.35294117647058826, 0.3411764705882353, 0.3254901960784314], [0.5725490196078431, 0.5490196078431373, 0.5019607843137255], [0.7607843137254902, 0.7254901960784313, 0.6627450980392157], [0.9686274509803922, 0.9176470588235294, 0.8666666666666667], [0.996078431372549, 0.9411764705882353, 0.8941176470588236], [0.9882352941176471, 0.9254901960784314, 0.8784313725490196], [0.9725490196078431, 0.9176470588235294, 0.8627450980392157], [0.9647058823529412, 0.9176470588235294, 0.8588235294117647], [0.9686274509803922, 0.9215686274509803, 0.8627450980392157], [0.9647058823529412, 0.9176470588235294, 0.8588235294117647], [0.9607843137254902, 0.9137254901960784, 0.8470588235294118], [0.9490196078431372, 0.9019607843137255, 0.8352941176470589], [0.9411764705882353, 0.8901960784313725, 0.8196078431372549], [0.9372549019607843, 0.8745098039215686, 0.796078431372549], [0.9294117647058824, 0.8666666666666667, 0.7803921568627451]], [[0.4549019607843137, 0.6078431372549019, 0.8], [0.44313725490196076, 0.6078431372549019, 0.807843137254902], [0.42745098039215684, 0.6039215686274509, 0.8117647058823529], [0.43529411764705883, 0.6, 0.803921568627451], [0.4666666666666667, 0.6039215686274509, 0.792156862745098], [0.4666666666666667, 0.5843137254901961, 0.7568627450980392], [0.34901960784313724, 0.48627450980392156, 0.6627450980392157], [0.24705882352941178, 0.396078431372549, 0.5725490196078431], [0.1843137254901961, 0.3215686274509804, 0.47843137254901963], [0.1607843137254902, 0.27450980392156865, 0.40784313725490196], [0.1843137254901961, 0.25098039215686274, 0.34901960784313724], [0.21176470588235294, 0.2549019607843137, 0.32941176470588235], [0.25882352941176473, 0.2823529411764706, 0.3137254901960784], [0.23921568627450981, 0.2549019607843137, 0.2627450980392157], [0.23921568627450981, 0.2627450980392157, 0.2823529411764706], [0.2901960784313726, 0.2980392156862745, 0.33725490196078434], [0.4666666666666667, 0.47058823529411764, 0.4627450980392157], [0.803921568627451, 0.7725490196078432, 0.7254901960784313], [0.996078431372549, 0.9568627450980393, 0.8980392156862745], [1.0, 0.9764705882352941, 0.9215686274509803], [1.0, 0.9529411764705882, 0.9098039215686274], [0.9921568627450981, 0.9411764705882353, 0.9019607843137255], [0.996078431372549, 0.9411764705882353, 0.9019607843137255], [0.9882352941176471, 0.9372549019607843, 0.8901960784313725], [0.9725490196078431, 0.9254901960784314, 0.8745098039215686], [0.9803921568627451, 0.9333333333333333, 0.8862745098039215], [0.9803921568627451, 0.9294117647058824, 0.8823529411764706], [0.9686274509803922, 0.9215686274509803, 0.8627450980392157], [0.9647058823529412, 0.9215686274509803, 0.8509803921568627], [0.9529411764705882, 0.9019607843137255, 0.8352941176470589], [0.9490196078431372, 0.8901960784313725, 0.8196078431372549], [0.9411764705882353, 0.8784313725490196, 0.8]], [[0.45098039215686275, 0.592156862745098, 0.7803921568627451], [0.4549019607843137, 0.6078431372549019, 0.792156862745098], [0.4549019607843137, 0.6039215686274509, 0.796078431372549], [0.4627450980392157, 0.6039215686274509, 0.8], [0.49411764705882355, 0.6196078431372549, 0.796078431372549], [0.6, 0.6823529411764706, 0.8156862745098039], [0.6392156862745098, 0.6941176470588235, 0.803921568627451], [0.6, 0.6705882352941176, 0.788235294117647], [0.5215686274509804, 0.611764705882353, 0.7411764705882353], [0.42745098039215684, 0.5254901960784314, 0.6588235294117647], [0.3333333333333333, 0.4470588235294118, 0.5764705882352941], [0.2980392156862745, 0.396078431372549, 0.5254901960784314], [0.3058823529411765, 0.38823529411764707, 0.4980392156862745], [0.3333333333333333, 0.39215686274509803, 0.47843137254901963], [0.4666666666666667, 0.49411764705882355, 0.5372549019607843], [0.6980392156862745, 0.6862745098039216, 0.6666666666666666], [0.9254901960784314, 0.8745098039215686, 0.8196078431372549], [1.0, 0.9450980392156862, 0.8980392156862745], [0.9921568627450981, 0.9529411764705882, 0.9098039215686274], [0.984313725490196, 0.9529411764705882, 0.9137254901960784], [0.996078431372549, 0.9607843137254902, 0.9254901960784314], [0.996078431372549, 0.9568627450980393, 0.9254901960784314], [0.996078431372549, 0.9568627450980393, 0.9215686274509803], [0.9882352941176471, 0.9490196078431372, 0.9137254901960784], [0.9803921568627451, 0.9411764705882353, 0.8980392156862745], [0.9725490196078431, 0.9294117647058824, 0.8901960784313725], [0.984313725490196, 0.9333333333333333, 0.8941176470588236], [0.984313725490196, 0.9372549019607843, 0.8823529411764706], [0.9725490196078431, 0.9254901960784314, 0.8627450980392157], [0.9568627450980393, 0.9098039215686274, 0.8431372549019608], [0.9490196078431372, 0.8980392156862745, 0.8274509803921568], [0.9411764705882353, 0.8823529411764706, 0.807843137254902]], [[0.4470588235294118, 0.5803921568627451, 0.7647058823529411], [0.47058823529411764, 0.6039215686274509, 0.7843137254901961], [0.47843137254901963, 0.611764705882353, 0.792156862745098], [0.49411764705882355, 0.6274509803921569, 0.8117647058823529], [0.5215686274509804, 0.6392156862745098, 0.807843137254902], [0.615686274509804, 0.6941176470588235, 0.8274509803921568], [0.7019607843137254, 0.7411764705882353, 0.8431372549019608], [0.7450980392156863, 0.7686274509803922, 0.8509803921568627], [0.7803921568627451, 0.788235294117647, 0.8509803921568627], [0.796078431372549, 0.788235294117647, 0.8352941176470589], [0.7686274509803922, 0.7725490196078432, 0.8235294117647058], [0.7490196078431373, 0.7490196078431373, 0.8], [0.7686274509803922, 0.7647058823529411, 0.803921568627451], [0.8, 0.7803921568627451, 0.803921568627451], [0.9019607843137255, 0.8705882352941177, 0.8549019607843137], [0.9725490196078431, 0.9372549019607843, 0.8862745098039215], [0.9882352941176471, 0.9490196078431372, 0.9176470588235294], [0.9921568627450981, 0.9529411764705882, 0.9372549019607843], [0.996078431372549, 0.9725490196078431, 0.9490196078431372], [0.984313725490196, 0.9725490196078431, 0.9450980392156862], [0.9803921568627451, 0.9607843137254902, 0.9411764705882353], [0.9921568627450981, 0.9686274509803922, 0.9529411764705882], [0.9882352941176471, 0.9647058823529412, 0.9411764705882353], [0.9882352941176471, 0.9607843137254902, 0.9294117647058824], [0.9921568627450981, 0.9607843137254902, 0.9215686274509803], [0.9882352941176471, 0.9490196078431372, 0.9098039215686274], [0.984313725490196, 0.9372549019607843, 0.8941176470588236], [0.9803921568627451, 0.9372549019607843, 0.8862745098039215], [0.9686274509803922, 0.9215686274509803, 0.8627450980392157], [0.9568627450980393, 0.9098039215686274, 0.8470588235294118], [0.9529411764705882, 0.9019607843137255, 0.8392156862745098], [0.9411764705882353, 0.8862745098039215, 0.8156862745098039]], [[0.44313725490196076, 0.5725490196078431, 0.7490196078431373], [0.4823529411764706, 0.611764705882353, 0.792156862745098], [0.5019607843137255, 0.6235294117647059, 0.8], [0.5176470588235295, 0.6431372549019608, 0.8235294117647058], [0.5411764705882353, 0.6549019607843137, 0.8235294117647058], [0.6235294117647059, 0.6980392156862745, 0.8431372549019608], [0.7450980392156863, 0.7725490196078432, 0.8666666666666667], [0.7764705882352941, 0.7803921568627451, 0.8470588235294118], [0.803921568627451, 0.807843137254902, 0.8705882352941177], [0.8274509803921568, 0.8274509803921568, 0.8901960784313725], [0.8745098039215686, 0.8470588235294118, 0.8941176470588236], [0.9098039215686274, 0.8745098039215686, 0.8941176470588236], [0.9372549019607843, 0.9058823529411765, 0.8980392156862745], [0.9529411764705882, 0.9215686274509803, 0.9019607843137255], [0.9607843137254902, 0.9254901960784314, 0.9098039215686274], [0.9647058823529412, 0.9372549019607843, 0.9294117647058824], [0.9725490196078431, 0.9568627450980393, 0.9333333333333333], [0.9882352941176471, 0.9647058823529412, 0.9490196078431372], [0.9882352941176471, 0.9764705882352941, 0.9607843137254902], [0.984313725490196, 0.9803921568627451, 0.9607843137254902], [0.9725490196078431, 0.9686274509803922, 0.9490196078431372], [0.984313725490196, 0.9764705882352941, 0.9647058823529412], [0.9921568627450981, 0.9764705882352941, 0.9647058823529412], [0.9921568627450981, 0.9764705882352941, 0.9529411764705882], [0.996078431372549, 0.9686274509803922, 0.9372549019607843], [1.0, 0.9647058823529412, 0.9215686274509803], [0.9921568627450981, 0.9490196078431372, 0.9019607843137255], [0.9764705882352941, 0.9294117647058824, 0.8862745098039215], [0.9686274509803922, 0.9254901960784314, 0.8745098039215686], [0.9647058823529412, 0.9176470588235294, 0.8627450980392157], [0.9568627450980393, 0.9098039215686274, 0.8509803921568627], [0.9450980392156862, 0.8980392156862745, 0.8313725490196079]]]]}'"
            ]
          },
          "metadata": {
            "tags": []
          },
          "execution_count": 15
        }
      ]
    },
    {
      "cell_type": "markdown",
      "metadata": {
        "id": "KZDKjyfbPoIa",
        "colab_type": "text"
      },
      "source": [
        "### Enviar la primera petición POST al modelo"
      ]
    },
    {
      "cell_type": "code",
      "metadata": {
        "id": "7oFbtxiyPe4p",
        "colab_type": "code",
        "colab": {}
      },
      "source": [
        "headers = {\"content-type\":\"application/json\"}"
      ],
      "execution_count": 0,
      "outputs": []
    },
    {
      "cell_type": "code",
      "metadata": {
        "id": "I5KHh02nQYIJ",
        "colab_type": "code",
        "colab": {}
      },
      "source": [
        "json_response = requests.post(url=\"http://localhost:8000/v1/models/cifar10:predict\", data=data, headers=headers)"
      ],
      "execution_count": 0,
      "outputs": []
    },
    {
      "cell_type": "code",
      "metadata": {
        "id": "bMYkCQ4gQ2tR",
        "colab_type": "code",
        "outputId": "e5489553-8d5e-47fd-be6f-2f53bf52895c",
        "colab": {
          "base_uri": "https://localhost:8080/",
          "height": 34
        }
      },
      "source": [
        "json_response"
      ],
      "execution_count": 0,
      "outputs": [
        {
          "output_type": "execute_result",
          "data": {
            "text/plain": [
              "<Response [200]>"
            ]
          },
          "metadata": {
            "tags": []
          },
          "execution_count": 26
        }
      ]
    },
    {
      "cell_type": "code",
      "metadata": {
        "id": "UtoG2441Q4_I",
        "colab_type": "code",
        "colab": {}
      },
      "source": [
        "predictions = json.loads(json_response.text)['predictions']"
      ],
      "execution_count": 0,
      "outputs": []
    },
    {
      "cell_type": "code",
      "metadata": {
        "id": "hA-jN6xSRK2S",
        "colab_type": "code",
        "outputId": "9bb022e4-619d-456c-e1c7-ad654831d45b",
        "colab": {
          "base_uri": "https://localhost:8080/",
          "height": 187
        }
      },
      "source": [
        "predictions"
      ],
      "execution_count": 0,
      "outputs": [
        {
          "output_type": "execute_result",
          "data": {
            "text/plain": [
              "[[1.26298616e-09,\n",
              "  3.42567225e-11,\n",
              "  2.43073339e-10,\n",
              "  2.89047062e-08,\n",
              "  4.87489042e-12,\n",
              "  4.10505553e-11,\n",
              "  3.08533615e-11,\n",
              "  7.64918184e-07,\n",
              "  1.75791507e-14,\n",
              "  0.999999166]]"
            ]
          },
          "metadata": {
            "tags": []
          },
          "execution_count": 28
        }
      ]
    },
    {
      "cell_type": "code",
      "metadata": {
        "id": "KlyFNxrxRL_A",
        "colab_type": "code",
        "outputId": "564ed5d8-39bb-4820-f175-1919debb0da5",
        "colab": {
          "base_uri": "https://localhost:8080/",
          "height": 286
        }
      },
      "source": [
        "plt.imshow(X_test[random_image])"
      ],
      "execution_count": 0,
      "outputs": [
        {
          "output_type": "execute_result",
          "data": {
            "text/plain": [
              "<matplotlib.image.AxesImage at 0x7f6b4583b3c8>"
            ]
          },
          "metadata": {
            "tags": []
          },
          "execution_count": 29
        },
        {
          "output_type": "display_data",
          "data": {
            "image/png": "[encoded data removed]",
            "text/plain": [
              "<Figure size 432x288 with 1 Axes>"
            ]
          },
          "metadata": {
            "tags": []
          }
        }
      ]
    },
    {
      "cell_type": "code",
      "metadata": {
        "id": "E3WbrMl_RW1Y",
        "colab_type": "code",
        "outputId": "11d29c8d-74e7-4cc9-e7f9-5e5cd6761f70",
        "colab": {
          "base_uri": "https://localhost:8080/",
          "height": 34
        }
      },
      "source": [
        "class_names[np.argmax(predictions[0])]"
      ],
      "execution_count": 0,
      "outputs": [
        {
          "output_type": "execute_result",
          "data": {
            "text/plain": [
              "'camión'"
            ]
          },
          "metadata": {
            "tags": []
          },
          "execution_count": 30
        }
      ]
    },
    {
      "cell_type": "markdown",
      "metadata": {
        "id": "OVN6T3tFR_IQ",
        "colab_type": "text"
      },
      "source": [
        "## Paso 8: Enviar una petición POST a un modelo específico "
      ]
    },
    {
      "cell_type": "code",
      "metadata": {
        "id": "5TYXGo-XRkCo",
        "colab_type": "code",
        "colab": {}
      },
      "source": [
        "specific_json_response = requests.post(url=\"http://localhost:8000/v1/models/cifar10/versions/1:predict\", data=data, headers=headers)"
      ],
      "execution_count": 0,
      "outputs": []
    },
    {
      "cell_type": "code",
      "metadata": {
        "id": "TF9nOKVeS9ER",
        "colab_type": "code",
        "outputId": "a197dde6-ce3a-4279-ed59-a7b1851b4a2e",
        "colab": {
          "base_uri": "https://localhost:8080/",
          "height": 34
        }
      },
      "source": [
        "specific_json_response"
      ],
      "execution_count": 0,
      "outputs": [
        {
          "output_type": "execute_result",
          "data": {
            "text/plain": [
              "<Response [200]>"
            ]
          },
          "metadata": {
            "tags": []
          },
          "execution_count": 32
        }
      ]
    },
    {
      "cell_type": "code",
      "metadata": {
        "id": "EZGwCkeMS-qg",
        "colab_type": "code",
        "colab": {}
      },
      "source": [
        ""
      ],
      "execution_count": 0,
      "outputs": []
    }
  ]
}