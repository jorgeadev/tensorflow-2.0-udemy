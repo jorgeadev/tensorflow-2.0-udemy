{
  "nbformat": 4,
  "nbformat_minor": 0,
  "metadata": {
    "colab": {
      "name": "Collab 14 - Entrenamiento Distribuido.ipynb",
      "provenance": [],
      "collapsed_sections": []
    },
    "kernelspec": {
      "name": "python3",
      "display_name": "Python 3"
    },
    "accelerator": "GPU"
  },
  "cells": [
    {
      "cell_type": "markdown",
      "metadata": {
        "id": "7eeB9h7f-5Pk",
        "colab_type": "text"
      },
      "source": [
        "## Paso 1: Instalación de dependencias y configuración del entorno"
      ]
    },
    {
      "cell_type": "code",
      "metadata": {
        "id": "wZML5kPN-k8a",
        "colab_type": "code",
        "outputId": "0fcb37d1-b3ea-4a45-85ea-06ef5668e5bf",
        "colab": {
          "base_uri": "https://localhost:8080/",
          "height": 496
        }
      },
      "source": [
        "!pip install tensorflow-gpu==2.0.0.alpha0"
      ],
      "execution_count": 0,
      "outputs": [
        {
          "output_type": "stream",
          "text": [
            "Collecting tensorflow-gpu==2.0.0.alpha0\n",
            "\u001b[?25l  Downloading https://files.pythonhosted.org/packages/1a/66/32cffad095253219d53f6b6c2a436637bbe45ac4e7be0244557210dc3918/tensorflow_gpu-2.0.0a0-cp36-cp36m-manylinux1_x86_64.whl (332.1MB)\n",
            "\u001b[K     |████████████████████████████████| 332.1MB 74kB/s \n",
            "\u001b[?25hRequirement already satisfied: gast>=0.2.0 in /usr/local/lib/python3.6/dist-packages (from tensorflow-gpu==2.0.0.alpha0) (0.2.2)\n",
            "Collecting tf-estimator-nightly<1.14.0.dev2019030116,>=1.14.0.dev2019030115 (from tensorflow-gpu==2.0.0.alpha0)\n",
            "\u001b[?25l  Downloading https://files.pythonhosted.org/packages/13/82/f16063b4eed210dc2ab057930ac1da4fbe1e91b7b051a6c8370b401e6ae7/tf_estimator_nightly-1.14.0.dev2019030115-py2.py3-none-any.whl (411kB)\n",
            "\u001b[K     |████████████████████████████████| 419kB 36.7MB/s \n",
            "\u001b[?25hRequirement already satisfied: wheel>=0.26 in /usr/local/lib/python3.6/dist-packages (from tensorflow-gpu==2.0.0.alpha0) (0.33.4)\n",
            "Requirement already satisfied: six>=1.10.0 in /usr/local/lib/python3.6/dist-packages (from tensorflow-gpu==2.0.0.alpha0) (1.12.0)\n",
            "Requirement already satisfied: keras-preprocessing>=1.0.5 in /usr/local/lib/python3.6/dist-packages (from tensorflow-gpu==2.0.0.alpha0) (1.1.0)\n",
            "Requirement already satisfied: keras-applications>=1.0.6 in /usr/local/lib/python3.6/dist-packages (from tensorflow-gpu==2.0.0.alpha0) (1.0.8)\n",
            "Requirement already satisfied: google-pasta>=0.1.2 in /usr/local/lib/python3.6/dist-packages (from tensorflow-gpu==2.0.0.alpha0) (0.1.7)\n",
            "Requirement already satisfied: protobuf>=3.6.1 in /usr/local/lib/python3.6/dist-packages (from tensorflow-gpu==2.0.0.alpha0) (3.7.1)\n",
            "Collecting tb-nightly<1.14.0a20190302,>=1.14.0a20190301 (from tensorflow-gpu==2.0.0.alpha0)\n",
            "\u001b[?25l  Downloading https://files.pythonhosted.org/packages/a9/51/aa1d756644bf4624c03844115e4ac4058eff77acd786b26315f051a4b195/tb_nightly-1.14.0a20190301-py3-none-any.whl (3.0MB)\n",
            "\u001b[K     |████████████████████████████████| 3.0MB 37.7MB/s \n",
            "\u001b[?25hRequirement already satisfied: termcolor>=1.1.0 in /usr/local/lib/python3.6/dist-packages (from tensorflow-gpu==2.0.0.alpha0) (1.1.0)\n",
            "Requirement already satisfied: absl-py>=0.7.0 in /usr/local/lib/python3.6/dist-packages (from tensorflow-gpu==2.0.0.alpha0) (0.7.1)\n",
            "Requirement already satisfied: grpcio>=1.8.6 in /usr/local/lib/python3.6/dist-packages (from tensorflow-gpu==2.0.0.alpha0) (1.15.0)\n",
            "Requirement already satisfied: numpy<2.0,>=1.14.5 in /usr/local/lib/python3.6/dist-packages (from tensorflow-gpu==2.0.0.alpha0) (1.16.4)\n",
            "Requirement already satisfied: astor>=0.6.0 in /usr/local/lib/python3.6/dist-packages (from tensorflow-gpu==2.0.0.alpha0) (0.8.0)\n",
            "Requirement already satisfied: h5py in /usr/local/lib/python3.6/dist-packages (from keras-applications>=1.0.6->tensorflow-gpu==2.0.0.alpha0) (2.8.0)\n",
            "Requirement already satisfied: setuptools in /usr/local/lib/python3.6/dist-packages (from protobuf>=3.6.1->tensorflow-gpu==2.0.0.alpha0) (41.0.1)\n",
            "Requirement already satisfied: markdown>=2.6.8 in /usr/local/lib/python3.6/dist-packages (from tb-nightly<1.14.0a20190302,>=1.14.0a20190301->tensorflow-gpu==2.0.0.alpha0) (3.1.1)\n",
            "Requirement already satisfied: werkzeug>=0.11.15 in /usr/local/lib/python3.6/dist-packages (from tb-nightly<1.14.0a20190302,>=1.14.0a20190301->tensorflow-gpu==2.0.0.alpha0) (0.15.5)\n",
            "Installing collected packages: tf-estimator-nightly, tb-nightly, tensorflow-gpu\n",
            "Successfully installed tb-nightly-1.14.0a20190301 tensorflow-gpu-2.0.0a0 tf-estimator-nightly-1.14.0.dev2019030115\n"
          ],
          "name": "stdout"
        }
      ]
    },
    {
      "cell_type": "markdown",
      "metadata": {
        "id": "lSKxj2vSED3K",
        "colab_type": "text"
      },
      "source": [
        "## Paso 2: Importar las dependencias del proyecto"
      ]
    },
    {
      "cell_type": "code",
      "metadata": {
        "id": "SJgY-K01ELTU",
        "colab_type": "code",
        "colab": {}
      },
      "source": [
        "import time\n",
        "import numpy as np\n",
        "import tensorflow as tf"
      ],
      "execution_count": 0,
      "outputs": []
    },
    {
      "cell_type": "code",
      "metadata": {
        "id": "sRUOhsd8EMht",
        "colab_type": "code",
        "outputId": "0deacce3-68b5-4c65-dd01-e7875ca7eb09",
        "colab": {
          "base_uri": "https://localhost:8080/",
          "height": 34
        }
      },
      "source": [
        "tf.__version__"
      ],
      "execution_count": 0,
      "outputs": [
        {
          "output_type": "execute_result",
          "data": {
            "text/plain": [
              "'2.0.0-alpha0'"
            ]
          },
          "metadata": {
            "tags": []
          },
          "execution_count": 3
        }
      ]
    },
    {
      "cell_type": "markdown",
      "metadata": {
        "id": "26ptHcr0EI0a",
        "colab_type": "text"
      },
      "source": [
        "## Paso 3: Pre procesado del dataset"
      ]
    },
    {
      "cell_type": "markdown",
      "metadata": {
        "id": "hczKVjTGEjAH",
        "colab_type": "text"
      },
      "source": [
        "### Cargar el dataset del MNIST"
      ]
    },
    {
      "cell_type": "code",
      "metadata": {
        "id": "G1Ha87twDSHS",
        "colab_type": "code",
        "outputId": "0af79b94-2805-44eb-b6a2-12887e630788",
        "colab": {
          "base_uri": "https://localhost:8080/",
          "height": 51
        }
      },
      "source": [
        "(X_train, y_train), (X_test, y_test) = tf.keras.datasets.mnist.load_data()"
      ],
      "execution_count": 0,
      "outputs": [
        {
          "output_type": "stream",
          "text": [
            "Downloading data from https://storage.googleapis.com/tensorflow/tf-keras-datasets/mnist.npz\n",
            "11493376/11490434 [==============================] - 0s 0us/step\n"
          ],
          "name": "stdout"
        }
      ]
    },
    {
      "cell_type": "markdown",
      "metadata": {
        "id": "7Rx1xqx0Ek2Y",
        "colab_type": "text"
      },
      "source": [
        "### Normalización de las imágenes"
      ]
    },
    {
      "cell_type": "code",
      "metadata": {
        "id": "iiCH6RVDEmdS",
        "colab_type": "code",
        "colab": {}
      },
      "source": [
        "X_train = X_train / 255.\n",
        "X_test = X_test / 255."
      ],
      "execution_count": 0,
      "outputs": []
    },
    {
      "cell_type": "code",
      "metadata": {
        "id": "dKO-LUwRF_VN",
        "colab_type": "code",
        "outputId": "40c577fa-d389-4131-81cf-8f0bc230696d",
        "colab": {
          "base_uri": "https://localhost:8080/",
          "height": 34
        }
      },
      "source": [
        "X_train.shape"
      ],
      "execution_count": 0,
      "outputs": [
        {
          "output_type": "execute_result",
          "data": {
            "text/plain": [
              "(60000, 28, 28)"
            ]
          },
          "metadata": {
            "tags": []
          },
          "execution_count": 6
        }
      ]
    },
    {
      "cell_type": "markdown",
      "metadata": {
        "id": "cFay5qJlEm9j",
        "colab_type": "text"
      },
      "source": [
        "### Redimensionar el dataset"
      ]
    },
    {
      "cell_type": "code",
      "metadata": {
        "id": "jKSk6QhDEpTR",
        "colab_type": "code",
        "colab": {}
      },
      "source": [
        "X_train = X_train.reshape(-1, 28*28)\n",
        "X_test = X_test.reshape(-1, 28*28)"
      ],
      "execution_count": 0,
      "outputs": []
    },
    {
      "cell_type": "code",
      "metadata": {
        "id": "tY5ZlIXbGT6z",
        "colab_type": "code",
        "outputId": "31578489-842b-4f3a-82c4-ba7c153c59ee",
        "colab": {
          "base_uri": "https://localhost:8080/",
          "height": 34
        }
      },
      "source": [
        "X_train.shape"
      ],
      "execution_count": 0,
      "outputs": [
        {
          "output_type": "execute_result",
          "data": {
            "text/plain": [
              "(60000, 784)"
            ]
          },
          "metadata": {
            "tags": []
          },
          "execution_count": 8
        }
      ]
    },
    {
      "cell_type": "markdown",
      "metadata": {
        "id": "4C4z3xaBHCkj",
        "colab_type": "text"
      },
      "source": [
        "## Paso 4: Entrenamiento distribuido"
      ]
    },
    {
      "cell_type": "markdown",
      "metadata": {
        "id": "Go7pPmPNHF4i",
        "colab_type": "text"
      },
      "source": [
        "### Definir un modelo normal (no distribuido)"
      ]
    },
    {
      "cell_type": "code",
      "metadata": {
        "id": "y0-yHacPGVbC",
        "colab_type": "code",
        "colab": {}
      },
      "source": [
        "model_normal = tf.keras.models.Sequential()"
      ],
      "execution_count": 0,
      "outputs": []
    },
    {
      "cell_type": "code",
      "metadata": {
        "id": "cZXEmKu2Hnwa",
        "colab_type": "code",
        "colab": {}
      },
      "source": [
        "model_normal.add(tf.keras.layers.Dense(units=128, activation='relu', input_shape=(784,)))"
      ],
      "execution_count": 0,
      "outputs": []
    },
    {
      "cell_type": "code",
      "metadata": {
        "id": "D8x-c_2WH2xi",
        "colab_type": "code",
        "colab": {}
      },
      "source": [
        "model_normal.add(tf.keras.layers.Dropout(rate=0.2))"
      ],
      "execution_count": 0,
      "outputs": []
    },
    {
      "cell_type": "code",
      "metadata": {
        "id": "VyRrtur0H_F7",
        "colab_type": "code",
        "colab": {}
      },
      "source": [
        "model_normal.add(tf.keras.layers.Dense(units=10, activation='softmax'))"
      ],
      "execution_count": 0,
      "outputs": []
    },
    {
      "cell_type": "code",
      "metadata": {
        "id": "4bw4pGh7IID6",
        "colab_type": "code",
        "colab": {}
      },
      "source": [
        "model_normal.compile(optimizer='adam', loss='sparse_categorical_crossentropy', metrics=['sparse_categorical_accuracy'])"
      ],
      "execution_count": 0,
      "outputs": []
    },
    {
      "cell_type": "markdown",
      "metadata": {
        "id": "QxNAPpg_Ixd1",
        "colab_type": "text"
      },
      "source": [
        "### Definir una estrategia distribuida"
      ]
    },
    {
      "cell_type": "code",
      "metadata": {
        "id": "7eqaEeJ8IY5c",
        "colab_type": "code",
        "colab": {}
      },
      "source": [
        "distribute = tf.distribute.MirroredStrategy()"
      ],
      "execution_count": 0,
      "outputs": []
    },
    {
      "cell_type": "markdown",
      "metadata": {
        "id": "Yq18oQJyLvR8",
        "colab_type": "text"
      },
      "source": [
        "### Definir un modelo distribuido"
      ]
    },
    {
      "cell_type": "code",
      "metadata": {
        "id": "G1PqCVZHJWDS",
        "colab_type": "code",
        "colab": {}
      },
      "source": [
        "with distribute.scope():\n",
        "  model_distributed = tf.keras.models.Sequential()\n",
        "  model_distributed.add(tf.keras.layers.Dense(units=128, activation='relu', input_shape=(784,)))\n",
        "  model_distributed.add(tf.keras.layers.Dropout(rate=0.2))\n",
        "  model_distributed.add(tf.keras.layers.Dense(units=10, activation='softmax'))\n",
        "  model_distributed.compile(optimizer='adam', loss='sparse_categorical_crossentropy', metrics=['sparse_categorical_accuracy'])"
      ],
      "execution_count": 0,
      "outputs": []
    },
    {
      "cell_type": "markdown",
      "metadata": {
        "id": "yq-5J0hmNJPh",
        "colab_type": "text"
      },
      "source": [
        "### Comparar la velocidad de entrenamiento normal vs distribuida"
      ]
    },
    {
      "cell_type": "code",
      "metadata": {
        "id": "0DYLCQftM99q",
        "colab_type": "code",
        "outputId": "6712a2cc-5081-4d04-a27b-490130711f43",
        "colab": {
          "base_uri": "https://localhost:8080/",
          "height": 374
        }
      },
      "source": [
        "start_time = time.time()\n",
        "model_distributed.fit(X_train, y_train, epochs=10, batch_size=25)\n",
        "print(\"El entrenamiento distribuido ha tardado: {}\".format(time.time() - start_time))"
      ],
      "execution_count": 0,
      "outputs": [
        {
          "output_type": "stream",
          "text": [
            "Epoch 1/10\n",
            "2400/2400 [==============================] - 16s 6ms/step - loss: 0.2813 - sparse_categorical_accuracy: 0.9178\n",
            "Epoch 2/10\n",
            "2400/2400 [==============================] - 15s 6ms/step - loss: 0.1362 - sparse_categorical_accuracy: 0.9597\n",
            "Epoch 3/10\n",
            "2400/2400 [==============================] - 15s 6ms/step - loss: 0.1035 - sparse_categorical_accuracy: 0.9683\n",
            "Epoch 4/10\n",
            "2400/2400 [==============================] - 15s 6ms/step - loss: 0.0852 - sparse_categorical_accuracy: 0.9739\n",
            "Epoch 5/10\n",
            "2400/2400 [==============================] - 15s 6ms/step - loss: 0.0730 - sparse_categorical_accuracy: 0.9769\n",
            "Epoch 6/10\n",
            "2400/2400 [==============================] - 15s 6ms/step - loss: 0.0651 - sparse_categorical_accuracy: 0.9790\n",
            "Epoch 7/10\n",
            "2400/2400 [==============================] - 15s 6ms/step - loss: 0.0576 - sparse_categorical_accuracy: 0.9814\n",
            "Epoch 8/10\n",
            "2400/2400 [==============================] - 15s 6ms/step - loss: 0.0518 - sparse_categorical_accuracy: 0.9829\n",
            "Epoch 9/10\n",
            "2400/2400 [==============================] - 15s 6ms/step - loss: 0.0469 - sparse_categorical_accuracy: 0.9845\n",
            "Epoch 10/10\n",
            "2400/2400 [==============================] - 15s 6ms/step - loss: 0.0443 - sparse_categorical_accuracy: 0.9855\n",
            "El entrenamiento distribuido ha tardado: 152.52110266685486\n"
          ],
          "name": "stdout"
        }
      ]
    },
    {
      "cell_type": "code",
      "metadata": {
        "id": "Ub9tQLLTNYTt",
        "colab_type": "code",
        "outputId": "e8982ff6-e9eb-4d2f-8f68-6108c4774a38",
        "colab": {
          "base_uri": "https://localhost:8080/",
          "height": 374
        }
      },
      "source": [
        "start_time = time.time()\n",
        "model_normal.fit(X_train, y_train, epochs=10, batch_size=25)\n",
        "print(\"El entrenamiento normal ha tardado: {}\".format(time.time() - start_time))"
      ],
      "execution_count": 0,
      "outputs": [
        {
          "output_type": "stream",
          "text": [
            "Epoch 1/10\n",
            "60000/60000 [==============================] - 12s 202us/sample - loss: 0.2892 - sparse_categorical_accuracy: 0.9165\n",
            "Epoch 2/10\n",
            "60000/60000 [==============================] - 12s 197us/sample - loss: 0.1401 - sparse_categorical_accuracy: 0.9575\n",
            "Epoch 3/10\n",
            "60000/60000 [==============================] - 12s 197us/sample - loss: 0.1075 - sparse_categorical_accuracy: 0.9674\n",
            "Epoch 4/10\n",
            "60000/60000 [==============================] - 12s 196us/sample - loss: 0.0873 - sparse_categorical_accuracy: 0.9728\n",
            "Epoch 5/10\n",
            "60000/60000 [==============================] - 12s 196us/sample - loss: 0.0734 - sparse_categorical_accuracy: 0.9764\n",
            "Epoch 6/10\n",
            "60000/60000 [==============================] - 12s 197us/sample - loss: 0.0653 - sparse_categorical_accuracy: 0.9791\n",
            "Epoch 7/10\n",
            "60000/60000 [==============================] - 12s 195us/sample - loss: 0.0579 - sparse_categorical_accuracy: 0.9816\n",
            "Epoch 8/10\n",
            "60000/60000 [==============================] - 12s 195us/sample - loss: 0.0521 - sparse_categorical_accuracy: 0.9828\n",
            "Epoch 9/10\n",
            "60000/60000 [==============================] - 12s 195us/sample - loss: 0.0480 - sparse_categorical_accuracy: 0.9844\n",
            "Epoch 10/10\n",
            "60000/60000 [==============================] - 12s 195us/sample - loss: 0.0444 - sparse_categorical_accuracy: 0.9851\n",
            "El entrenamiento normal ha tardado: 145.67900371551514\n"
          ],
          "name": "stdout"
        }
      ]
    },
    {
      "cell_type": "code",
      "metadata": {
        "id": "1CxbQ8JMOF4q",
        "colab_type": "code",
        "colab": {}
      },
      "source": [
        ""
      ],
      "execution_count": 0,
      "outputs": []
    }
  ]
}